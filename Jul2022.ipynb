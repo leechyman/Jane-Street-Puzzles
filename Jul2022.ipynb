{
 "cells": [
  {
   "cell_type": "markdown",
   "id": "5b8a286d-d8a2-4515-8a6f-8a9be70e47a5",
   "metadata": {},
   "source": [
    "## July 2022"
   ]
  },
  {
   "cell_type": "markdown",
   "id": "19b58686-a3bb-4430-80a4-efc1db4ac684",
   "metadata": {},
   "source": [
    "#### Find expected number of steps on soccer ball (Adidas telstar: 20 white hexagons, 12 black pentagons)\n",
    "-> Random walks on surface"
   ]
  },
  {
   "cell_type": "code",
   "execution_count": 160,
   "id": "056cc90e-bfe8-4591-b673-5507f931b27e",
   "metadata": {},
   "outputs": [],
   "source": [
    "import numpy as np\n",
    "import pandas as pd\n",
    "import random\n",
    "import matplotlib.pyplot as plt\n",
    "import seaborn as sns"
   ]
  },
  {
   "cell_type": "code",
   "execution_count": 2,
   "id": "15c2995f-c36a-4b05-bf42-5b8e1fbbbd9e",
   "metadata": {},
   "outputs": [],
   "source": [
    "# dictionary of transitions for football panel states\n",
    "trans_dict = {  'A':['E','B','F'],\n",
    "                'B':['A','C','G'],\n",
    "                'C':['B','D','H'],\n",
    "                'D':['C','E','I'],\n",
    "                'E':['A','D','J'],\n",
    "                'F':['A','K','O'],\n",
    "                'G':['B','K','L'],\n",
    "                'H':['C','L','M'],\n",
    "                'I':['D','M','N'],\n",
    "                'J':['E','N','O'],\n",
    "                'K':['F','G','P'],\n",
    "                'L':['G','H','Q'],\n",
    "                'M':['H','I','R'],\n",
    "                'N':['I','J','S'],\n",
    "                'O':['J','T','F'],\n",
    "                'P':['K','Q','T'],\n",
    "                'Q':['P','R','L'],\n",
    "                'R':['M','Q','S'],\n",
    "                'S':['R','N','T'],\n",
    "                'T':['S','O','P']}"
   ]
  },
  {
   "cell_type": "code",
   "execution_count": 3,
   "id": "02401cb8-fbf6-40d2-ac5a-cadf9be9e9a0",
   "metadata": {},
   "outputs": [],
   "source": [
    "class Markov:\n",
    "    \n",
    "    def __init__(self, transitions_, starting_state_):\n",
    "        self.transitions = transitions_\n",
    "        self.start = starting_state_\n",
    "        self.current = starting_state_\n",
    "        self.steps = 0\n",
    "        \n",
    "    def next_state(self):\n",
    "        ''' returns random choice of next state '''\n",
    "        #print(self.steps, self.current)\n",
    "        self.steps += 1\n",
    "        self.current = random.choice(self.transitions[self.current])\n",
    "        return\n",
    "    \n",
    "    def reset(self):\n",
    "        ''' reset current state and steps '''\n",
    "        self.current = self.start\n",
    "        self.steps = 0\n",
    "        return\n",
    "    \n",
    "    def RW_home(self):\n",
    "        ''' does 1 random walk stops first time returns to starting state, returns num steps'''\n",
    "        self.next_state()\n",
    "        while (self.current!=self.start):\n",
    "            self.next_state()\n",
    "        #print(self.steps, self.current)\n",
    "        count = self.steps\n",
    "        self.reset()\n",
    "        return count\n",
    "    \n",
    "    def record_walk(self, stats):\n",
    "        ''' record stats of walk to stats obj '''\n",
    "        count = self.RW_home()\n",
    "        stats.record_result(count)\n",
    "        return\n",
    "    \n",
    "    def record_RW_home_sims(self, stats, N):\n",
    "        for i in range(N):\n",
    "            self.record_walk(stats)\n",
    "        return"
   ]
  },
  {
   "cell_type": "code",
   "execution_count": 152,
   "id": "5fd7ebc9-a21f-4c5d-a8f6-567add56d4dd",
   "metadata": {},
   "outputs": [],
   "source": [
    "class Stats:\n",
    "    stat_dict = dict()\n",
    "    \n",
    "    def __init__(self):\n",
    "        return\n",
    "    \n",
    "    def record_result(self, result):\n",
    "        if (result in self.stat_dict):\n",
    "            self.stat_dict[result] += 1\n",
    "        else:\n",
    "            self.stat_dict[result] = 1\n",
    "        return\n",
    "    \n",
    "    def dataframe(self):\n",
    "        return pd.DataFrame(list(self.stat_dict.items()), columns = ['Walk length', 'Frequency'])\n",
    "    \n",
    "    def number_sims(self):\n",
    "        return sum(self.stat_dict.values())\n",
    "    \n",
    "    def prob_length(self, length):\n",
    "        ''' return estimated prob of walk of that length '''\n",
    "        return self.stat_dict[length] / sum(self.stat_dict.values())\n",
    "    \n",
    "    def expected_value_estimate(self):\n",
    "        return sum(leng*freq for leng,freq in self.stat_dict.items()) / self.number_sims()"
   ]
  },
  {
   "cell_type": "code",
   "execution_count": 5,
   "id": "d1aaee8c-c2b6-4df5-b664-9fae41c383b8",
   "metadata": {},
   "outputs": [],
   "source": [
    "telstar = Markov(trans_dict, 'A')\n",
    "stats = Stats()"
   ]
  },
  {
   "cell_type": "code",
   "execution_count": 6,
   "id": "8e1eb203-de31-4cc5-bece-f88977606fa0",
   "metadata": {},
   "outputs": [],
   "source": [
    "telstar.record_RW_home_sims(stats, 1_000_000)"
   ]
  },
  {
   "cell_type": "code",
   "execution_count": 7,
   "id": "2c18b17b-26c2-4dc1-9094-15c2be0179df",
   "metadata": {},
   "outputs": [
    {
     "data": {
      "text/plain": [
       "1000000"
      ]
     },
     "execution_count": 7,
     "metadata": {},
     "output_type": "execute_result"
    }
   ],
   "source": [
    "#number of sims run\n",
    "stats.number_sims()"
   ]
  },
  {
   "cell_type": "code",
   "execution_count": 8,
   "id": "c40c0c7d-f96d-4c78-9a45-8aeb9147c1bf",
   "metadata": {
    "tags": []
   },
   "outputs": [
    {
     "data": {
      "text/html": [
       "<div>\n",
       "<style scoped>\n",
       "    .dataframe tbody tr th:only-of-type {\n",
       "        vertical-align: middle;\n",
       "    }\n",
       "\n",
       "    .dataframe tbody tr th {\n",
       "        vertical-align: top;\n",
       "    }\n",
       "\n",
       "    .dataframe thead th {\n",
       "        text-align: right;\n",
       "    }\n",
       "</style>\n",
       "<table border=\"1\" class=\"dataframe\">\n",
       "  <thead>\n",
       "    <tr style=\"text-align: right;\">\n",
       "      <th></th>\n",
       "      <th>Walk length</th>\n",
       "      <th>Frequency</th>\n",
       "    </tr>\n",
       "  </thead>\n",
       "  <tbody>\n",
       "    <tr>\n",
       "      <th>0</th>\n",
       "      <td>2</td>\n",
       "      <td>333816</td>\n",
       "    </tr>\n",
       "    <tr>\n",
       "      <th>11</th>\n",
       "      <td>4</td>\n",
       "      <td>73768</td>\n",
       "    </tr>\n",
       "    <tr>\n",
       "      <th>8</th>\n",
       "      <td>5</td>\n",
       "      <td>24745</td>\n",
       "    </tr>\n",
       "    <tr>\n",
       "      <th>24</th>\n",
       "      <td>6</td>\n",
       "      <td>33266</td>\n",
       "    </tr>\n",
       "    <tr>\n",
       "      <th>41</th>\n",
       "      <td>7</td>\n",
       "      <td>21926</td>\n",
       "    </tr>\n",
       "    <tr>\n",
       "      <th>...</th>\n",
       "      <td>...</td>\n",
       "      <td>...</td>\n",
       "    </tr>\n",
       "    <tr>\n",
       "      <th>277</th>\n",
       "      <td>344</td>\n",
       "      <td>1</td>\n",
       "    </tr>\n",
       "    <tr>\n",
       "      <th>292</th>\n",
       "      <td>348</td>\n",
       "      <td>1</td>\n",
       "    </tr>\n",
       "    <tr>\n",
       "      <th>291</th>\n",
       "      <td>349</td>\n",
       "      <td>1</td>\n",
       "    </tr>\n",
       "    <tr>\n",
       "      <th>294</th>\n",
       "      <td>353</td>\n",
       "      <td>1</td>\n",
       "    </tr>\n",
       "    <tr>\n",
       "      <th>284</th>\n",
       "      <td>357</td>\n",
       "      <td>1</td>\n",
       "    </tr>\n",
       "  </tbody>\n",
       "</table>\n",
       "<p>304 rows × 2 columns</p>\n",
       "</div>"
      ],
      "text/plain": [
       "     Walk length  Frequency\n",
       "0              2     333816\n",
       "11             4      73768\n",
       "8              5      24745\n",
       "24             6      33266\n",
       "41             7      21926\n",
       "..           ...        ...\n",
       "277          344          1\n",
       "292          348          1\n",
       "291          349          1\n",
       "294          353          1\n",
       "284          357          1\n",
       "\n",
       "[304 rows x 2 columns]"
      ]
     },
     "execution_count": 8,
     "metadata": {},
     "output_type": "execute_result"
    }
   ],
   "source": [
    "#dataframe of results\n",
    "df = stats.dataframe()\n",
    "df.sort_values(by=['Walk length'])"
   ]
  },
  {
   "cell_type": "code",
   "execution_count": 140,
   "id": "a5a0732d-8f15-4c9c-9df7-2a6215a25e72",
   "metadata": {},
   "outputs": [
    {
     "data": {
      "text/plain": [
       "0.333816"
      ]
     },
     "execution_count": 140,
     "metadata": {},
     "output_type": "execute_result"
    }
   ],
   "source": [
    "#prob estimate of walk length = 2\n",
    "stats.prob_length(2)"
   ]
  },
  {
   "cell_type": "code",
   "execution_count": 287,
   "id": "80c00909-a28a-4104-9a10-efb502109e4b",
   "metadata": {},
   "outputs": [
    {
     "data": {
      "text/plain": [
       "0.073768"
      ]
     },
     "execution_count": 287,
     "metadata": {},
     "output_type": "execute_result"
    }
   ],
   "source": [
    "#prob estimate of walk length = 4\n",
    "stats.prob_length(4)"
   ]
  },
  {
   "cell_type": "code",
   "execution_count": 10,
   "id": "db419a93-42f7-46e7-95d1-430c3ef82b33",
   "metadata": {},
   "outputs": [
    {
     "data": {
      "text/plain": [
       "0.07407407407407407"
      ]
     },
     "execution_count": 10,
     "metadata": {},
     "output_type": "execute_result"
    }
   ],
   "source": [
    "(2*3) / 3**4"
   ]
  },
  {
   "cell_type": "code",
   "execution_count": 11,
   "id": "5b572254-867d-47c5-8d2e-a68ff6355ef7",
   "metadata": {},
   "outputs": [
    {
     "data": {
      "text/plain": [
       "0.024745"
      ]
     },
     "execution_count": 11,
     "metadata": {},
     "output_type": "execute_result"
    }
   ],
   "source": [
    "stats.prob_length(5)"
   ]
  },
  {
   "cell_type": "code",
   "execution_count": 12,
   "id": "f9fad323-3560-4d7e-b04b-3a9d7917f2f7",
   "metadata": {},
   "outputs": [
    {
     "data": {
      "text/plain": [
       "0.024691358024691357"
      ]
     },
     "execution_count": 12,
     "metadata": {},
     "output_type": "execute_result"
    }
   ],
   "source": [
    "(2*3) / 3**5"
   ]
  },
  {
   "cell_type": "code",
   "execution_count": 13,
   "id": "0ca06638-11d3-42ea-8326-f4772cd196e9",
   "metadata": {},
   "outputs": [
    {
     "data": {
      "text/plain": [
       "0.033266"
      ]
     },
     "execution_count": 13,
     "metadata": {},
     "output_type": "execute_result"
    }
   ],
   "source": [
    "stats.prob_length(6)"
   ]
  },
  {
   "cell_type": "code",
   "execution_count": 14,
   "id": "7b8a4e2e-4533-45b4-97ba-4d307ff62487",
   "metadata": {},
   "outputs": [
    {
     "data": {
      "text/plain": [
       "0.03292181069958848"
      ]
     },
     "execution_count": 14,
     "metadata": {},
     "output_type": "execute_result"
    }
   ],
   "source": [
    "(3*2*2*2) / 3**6"
   ]
  },
  {
   "cell_type": "code",
   "execution_count": 15,
   "id": "967a9b29-e9ab-4c5a-9ad7-87562b3134ad",
   "metadata": {},
   "outputs": [
    {
     "data": {
      "text/plain": [
       "0.02173"
      ]
     },
     "execution_count": 15,
     "metadata": {},
     "output_type": "execute_result"
    }
   ],
   "source": [
    "stats.prob_length(8)"
   ]
  },
  {
   "cell_type": "code",
   "execution_count": 16,
   "id": "ae31c776-51be-4dc0-af02-d1997793d038",
   "metadata": {},
   "outputs": [
    {
     "data": {
      "text/plain": [
       "0.02194787379972565"
      ]
     },
     "execution_count": 16,
     "metadata": {},
     "output_type": "execute_result"
    }
   ],
   "source": [
    "(3*2*2*2*2*3) / 3**8"
   ]
  },
  {
   "cell_type": "code",
   "execution_count": 17,
   "id": "0cf254ba-b110-427a-b01f-024aba74e13f",
   "metadata": {},
   "outputs": [
    {
     "data": {
      "text/plain": [
       "19.970233"
      ]
     },
     "execution_count": 17,
     "metadata": {},
     "output_type": "execute_result"
    }
   ],
   "source": [
    "stats.expected_value_estimate()"
   ]
  },
  {
   "cell_type": "code",
   "execution_count": 18,
   "id": "eb86f8cb-9667-4dbf-ae4e-df55ff5983a7",
   "metadata": {},
   "outputs": [
    {
     "data": {
      "text/plain": [
       "<AxesSubplot:ylabel='Frequency'>"
      ]
     },
     "execution_count": 18,
     "metadata": {},
     "output_type": "execute_result"
    },
    {
     "data": {
      "image/png": "[encoded data removed]",
      "text/plain": [
       "<Figure size 432x288 with 1 Axes>"
      ]
     },
     "metadata": {
      "needs_background": "light"
     },
     "output_type": "display_data"
    }
   ],
   "source": [
    "df.plot.hist(bins=270)"
   ]
  },
  {
   "cell_type": "markdown",
   "id": "bddc87a3-9219-4cc0-8bff-c756ca1fdde1",
   "metadata": {},
   "source": [
    "## Expected value = 20, need formal proof"
   ]
  },
  {
   "cell_type": "markdown",
   "id": "5dff5763-5eee-4be8-8dc7-0af8f2e5e7e5",
   "metadata": {},
   "source": [
    "Now do sims to estimate probability in flat world"
   ]
  },
  {
   "cell_type": "code",
   "execution_count": null,
   "id": "772b28fe-6455-4596-870e-08c3c944f2e8",
   "metadata": {},
   "outputs": [],
   "source": [
    "#ignore\n",
    "#helper function to get connecting hexagons\n",
    "def connected(i, j):\n",
    "    '''return list of connected hexs'''\n",
    "    if i%2==0: #even\n",
    "        #inside long side\n",
    "        long_side_length = i/2 + 1\n",
    "        bottom_side_length = i/2\n",
    "    else: #odd\n",
    "    return\n",
    "\n",
    "def outer_inner(i):\n",
    "    '''returns 2 lists of '''"
   ]
  },
  {
   "cell_type": "code",
   "execution_count": 224,
   "id": "b90a09cd-666a-4cd8-af5a-e8bf1e9601c6",
   "metadata": {},
   "outputs": [],
   "source": [
    "#ignore\n",
    "class Panel:\n",
    "    ref = 0\n",
    "    neighbours = []\n",
    "    \n",
    "    def __init__(self, ref_, neighbours_):\n",
    "        self.ref = ref_\n",
    "        self.neighbours = neighbours_\n",
    "    \n",
    "    def check_neighbour(self, check_ref):\n",
    "        ans = False\n",
    "        if (check_ref in self.neighbours):\n",
    "            ans = True\n",
    "        return ans"
   ]
  },
  {
   "cell_type": "code",
   "execution_count": 229,
   "id": "b1c40706-7e89-432e-8788-7ab917fd14b4",
   "metadata": {},
   "outputs": [],
   "source": [
    "A_1 = Panel('A_1', ['B_1', 'B_2', 'B_3'])"
   ]
  },
  {
   "cell_type": "code",
   "execution_count": 37,
   "id": "8e8b74fd-f83b-49f6-a861-fc2bc96cc0ab",
   "metadata": {},
   "outputs": [],
   "source": [
    "alphabet_up = ['A', 'B', 'C', 'D', 'E', 'F', 'G', 'H', 'I', 'J', 'K', 'L', 'M', 'N', 'O', 'P']"
   ]
  },
  {
   "cell_type": "code",
   "execution_count": 24,
   "id": "3ad01c4b-6714-4ef8-a210-91fefb13f564",
   "metadata": {},
   "outputs": [],
   "source": [
    "alphabet_low = ['a', 'b', 'c', 'd', 'e', 'f', 'g', 'h', 'i', 'j', 'k', 'l', 'm', 'n', 'o', 'p']"
   ]
  },
  {
   "cell_type": "code",
   "execution_count": null,
   "id": "0e449022-686f-4ede-b4c3-f3d0f8932022",
   "metadata": {},
   "outputs": [],
   "source": [
    "A_1 = Panel('A_1', ['B_1', 'B_2', 'B_3'])\n",
    "panels = [A_1]\n",
    "\n",
    "def create_board(panels, num_shells=11):\n",
    "    for i in range(1, num_shells):\n",
    "        for j in range(1, 3*(i-1)+1):\n",
    "            {alphabet}"
   ]
  },
  {
   "cell_type": "code",
   "execution_count": 149,
   "id": "27ee5dc5-d429-4f14-98d6-99f10d499b79",
   "metadata": {
    "collapsed": true,
    "jupyter": {
     "outputs_hidden": true
    },
    "tags": []
   },
   "outputs": [
    {
     "name": "stdout",
     "output_type": "stream",
     "text": [
      "C_1 2\n",
      "C_2 2\n",
      "C_3 2\n",
      "C_4 2\n",
      "C_5 2\n",
      "C_6 2\n",
      "D_1 3\n",
      "D_2 3\n",
      "D_3 3\n",
      "D_4 3\n",
      "D_5 3\n",
      "D_6 3\n",
      "D_7 3\n",
      "D_8 3\n",
      "D_9 3\n",
      "E_1 3\n",
      "E_2 3\n",
      "E_3 3\n",
      "E_4 3\n",
      "E_5 3\n",
      "E_6 3\n",
      "E_7 3\n",
      "E_8 3\n",
      "E_9 3\n",
      "E_10 3\n",
      "E_11 3\n",
      "E_12 3\n",
      "F_1 3\n",
      "F_2 3\n",
      "F_3 3\n",
      "F_4 3\n",
      "F_5 3\n",
      "F_6 3\n",
      "F_7 3\n",
      "F_8 3\n",
      "F_9 3\n",
      "F_10 3\n",
      "F_11 3\n",
      "F_12 3\n",
      "F_13 3\n",
      "F_14 3\n",
      "F_15 3\n",
      "G_1 3\n",
      "G_2 3\n",
      "G_3 3\n",
      "G_4 3\n",
      "G_5 3\n",
      "G_6 3\n",
      "G_7 3\n",
      "G_8 3\n",
      "G_9 3\n",
      "G_10 3\n",
      "G_11 3\n",
      "G_12 3\n",
      "G_13 3\n",
      "G_14 3\n",
      "G_15 3\n",
      "G_16 3\n",
      "G_17 3\n",
      "G_18 3\n",
      "H_1 3\n",
      "H_2 3\n",
      "H_3 3\n",
      "H_4 3\n",
      "H_5 3\n",
      "H_6 3\n",
      "H_7 3\n",
      "H_8 3\n",
      "H_9 3\n",
      "H_10 3\n",
      "H_11 3\n",
      "H_12 3\n",
      "H_13 3\n",
      "H_14 3\n",
      "H_15 3\n",
      "H_16 3\n",
      "H_17 3\n",
      "H_18 3\n",
      "H_19 3\n",
      "H_20 3\n",
      "H_21 3\n",
      "I_1 3\n",
      "I_2 3\n",
      "I_3 3\n",
      "I_4 3\n",
      "I_5 3\n",
      "I_6 3\n",
      "I_7 3\n",
      "I_8 3\n",
      "I_9 3\n",
      "I_10 3\n",
      "I_11 3\n",
      "I_12 3\n",
      "I_13 3\n",
      "I_14 3\n",
      "I_15 3\n",
      "I_16 3\n",
      "I_17 3\n",
      "I_18 3\n",
      "I_19 3\n",
      "I_20 3\n",
      "I_21 3\n",
      "I_22 3\n",
      "I_23 3\n",
      "I_24 3\n",
      "J_1 3\n",
      "J_2 3\n",
      "J_3 3\n",
      "J_4 3\n",
      "J_5 3\n",
      "J_6 3\n",
      "J_7 3\n",
      "J_8 3\n",
      "J_9 3\n",
      "J_10 3\n",
      "J_11 3\n",
      "J_12 3\n",
      "J_13 3\n",
      "J_14 3\n",
      "J_15 3\n",
      "J_16 3\n",
      "J_17 3\n",
      "J_18 3\n",
      "J_19 3\n",
      "J_20 3\n",
      "J_21 3\n",
      "J_22 3\n",
      "J_23 3\n",
      "J_24 3\n",
      "J_25 3\n",
      "J_26 3\n",
      "J_27 3\n",
      "K_1 3\n",
      "K_2 3\n",
      "K_3 3\n",
      "K_4 3\n",
      "K_5 3\n",
      "K_6 3\n",
      "K_7 3\n",
      "K_8 3\n",
      "K_9 3\n",
      "K_10 3\n",
      "K_11 3\n",
      "K_12 3\n",
      "K_13 3\n",
      "K_14 3\n",
      "K_15 3\n",
      "K_16 3\n",
      "K_17 3\n",
      "K_18 3\n",
      "K_19 3\n",
      "K_20 3\n",
      "K_21 3\n",
      "K_22 3\n",
      "K_23 3\n",
      "K_24 3\n",
      "K_25 3\n",
      "K_26 3\n",
      "K_27 3\n",
      "K_28 3\n",
      "K_29 3\n",
      "K_30 3\n"
     ]
    }
   ],
   "source": [
    "panel_dict = {'A_1':['B_1', 'B_2', 'B_3']}\n",
    "\n",
    "num_shells = 11\n",
    "\n",
    "for shell in range(2, num_shells+1, 1):\n",
    "    for pos in range(1, 3*(shell-1) + 1):\n",
    "        ref = f'{alphabet_up[shell-1]}_{pos}'\n",
    "        #print(ref)\n",
    "        neighbours = find_neighbours(shell, pos, panel_dict, alphabet_up)\n",
    "        panel_dict[ref] = neighbours"
   ]
  },
  {
   "cell_type": "code",
   "execution_count": 146,
   "id": "684c904b-05eb-4a45-9ec5-c3ff6b513a8d",
   "metadata": {},
   "outputs": [],
   "source": [
    "def find_neighbours(shell, pos, panel_dict, alphabet_up):\n",
    "    ref = f'{alphabet_up[shell-1]}_{pos}'\n",
    "    neighbours = []\n",
    "    \n",
    "    #search dict for neighbours already\n",
    "    for tup in list(panel_dict.items()):\n",
    "        if ref in tup[1]:\n",
    "            neighbours.append(tup[0])\n",
    "    \n",
    "    #alt case for B\n",
    "    if shell==2:\n",
    "        if pos==1:\n",
    "            neighbours += ['C_1', 'C_6']\n",
    "        if pos==2:\n",
    "            neighbours += ['C_2', 'C_3']\n",
    "        if pos==3:\n",
    "            neighbours += ['C_4', 'C_5']\n",
    "        return neighbours\n",
    "    \n",
    "    #find new neighbours\n",
    "    no_left = 3 - len(neighbours)\n",
    "    \n",
    "    #if i = even shell\n",
    "    if shell%2 == 0:\n",
    "        corners = find_corners(shell)\n",
    "        \n",
    "        #j how many long short and remainder?\n",
    "    #long\n",
    "    \n",
    "    \n",
    "    print(ref, no_left)\n",
    "    return neighbours\n",
    "    \n",
    "#def remaining_neighbours()"
   ]
  },
  {
   "cell_type": "code",
   "execution_count": 150,
   "id": "52e40e76-4c8f-47d7-8407-e70aede42f6b",
   "metadata": {
    "collapsed": true,
    "jupyter": {
     "outputs_hidden": true
    },
    "tags": []
   },
   "outputs": [
    {
     "data": {
      "text/plain": [
       "{'A_1': ['B_1', 'B_2', 'B_3'],\n",
       " 'B_1': ['A_1', 'C_1', 'C_6'],\n",
       " 'B_2': ['A_1', 'C_2', 'C_3'],\n",
       " 'B_3': ['A_1', 'C_4', 'C_5'],\n",
       " 'C_1': ['B_1'],\n",
       " 'C_2': ['B_2'],\n",
       " 'C_3': ['B_2'],\n",
       " 'C_4': ['B_3'],\n",
       " 'C_5': ['B_3'],\n",
       " 'C_6': ['B_1'],\n",
       " 'D_1': [],\n",
       " 'D_2': [],\n",
       " 'D_3': [],\n",
       " 'D_4': [],\n",
       " 'D_5': [],\n",
       " 'D_6': [],\n",
       " 'D_7': [],\n",
       " 'D_8': [],\n",
       " 'D_9': [],\n",
       " 'E_1': [],\n",
       " 'E_2': [],\n",
       " 'E_3': [],\n",
       " 'E_4': [],\n",
       " 'E_5': [],\n",
       " 'E_6': [],\n",
       " 'E_7': [],\n",
       " 'E_8': [],\n",
       " 'E_9': [],\n",
       " 'E_10': [],\n",
       " 'E_11': [],\n",
       " 'E_12': [],\n",
       " 'F_1': [],\n",
       " 'F_2': [],\n",
       " 'F_3': [],\n",
       " 'F_4': [],\n",
       " 'F_5': [],\n",
       " 'F_6': [],\n",
       " 'F_7': [],\n",
       " 'F_8': [],\n",
       " 'F_9': [],\n",
       " 'F_10': [],\n",
       " 'F_11': [],\n",
       " 'F_12': [],\n",
       " 'F_13': [],\n",
       " 'F_14': [],\n",
       " 'F_15': [],\n",
       " 'G_1': [],\n",
       " 'G_2': [],\n",
       " 'G_3': [],\n",
       " 'G_4': [],\n",
       " 'G_5': [],\n",
       " 'G_6': [],\n",
       " 'G_7': [],\n",
       " 'G_8': [],\n",
       " 'G_9': [],\n",
       " 'G_10': [],\n",
       " 'G_11': [],\n",
       " 'G_12': [],\n",
       " 'G_13': [],\n",
       " 'G_14': [],\n",
       " 'G_15': [],\n",
       " 'G_16': [],\n",
       " 'G_17': [],\n",
       " 'G_18': [],\n",
       " 'H_1': [],\n",
       " 'H_2': [],\n",
       " 'H_3': [],\n",
       " 'H_4': [],\n",
       " 'H_5': [],\n",
       " 'H_6': [],\n",
       " 'H_7': [],\n",
       " 'H_8': [],\n",
       " 'H_9': [],\n",
       " 'H_10': [],\n",
       " 'H_11': [],\n",
       " 'H_12': [],\n",
       " 'H_13': [],\n",
       " 'H_14': [],\n",
       " 'H_15': [],\n",
       " 'H_16': [],\n",
       " 'H_17': [],\n",
       " 'H_18': [],\n",
       " 'H_19': [],\n",
       " 'H_20': [],\n",
       " 'H_21': [],\n",
       " 'I_1': [],\n",
       " 'I_2': [],\n",
       " 'I_3': [],\n",
       " 'I_4': [],\n",
       " 'I_5': [],\n",
       " 'I_6': [],\n",
       " 'I_7': [],\n",
       " 'I_8': [],\n",
       " 'I_9': [],\n",
       " 'I_10': [],\n",
       " 'I_11': [],\n",
       " 'I_12': [],\n",
       " 'I_13': [],\n",
       " 'I_14': [],\n",
       " 'I_15': [],\n",
       " 'I_16': [],\n",
       " 'I_17': [],\n",
       " 'I_18': [],\n",
       " 'I_19': [],\n",
       " 'I_20': [],\n",
       " 'I_21': [],\n",
       " 'I_22': [],\n",
       " 'I_23': [],\n",
       " 'I_24': [],\n",
       " 'J_1': [],\n",
       " 'J_2': [],\n",
       " 'J_3': [],\n",
       " 'J_4': [],\n",
       " 'J_5': [],\n",
       " 'J_6': [],\n",
       " 'J_7': [],\n",
       " 'J_8': [],\n",
       " 'J_9': [],\n",
       " 'J_10': [],\n",
       " 'J_11': [],\n",
       " 'J_12': [],\n",
       " 'J_13': [],\n",
       " 'J_14': [],\n",
       " 'J_15': [],\n",
       " 'J_16': [],\n",
       " 'J_17': [],\n",
       " 'J_18': [],\n",
       " 'J_19': [],\n",
       " 'J_20': [],\n",
       " 'J_21': [],\n",
       " 'J_22': [],\n",
       " 'J_23': [],\n",
       " 'J_24': [],\n",
       " 'J_25': [],\n",
       " 'J_26': [],\n",
       " 'J_27': [],\n",
       " 'K_1': [],\n",
       " 'K_2': [],\n",
       " 'K_3': [],\n",
       " 'K_4': [],\n",
       " 'K_5': [],\n",
       " 'K_6': [],\n",
       " 'K_7': [],\n",
       " 'K_8': [],\n",
       " 'K_9': [],\n",
       " 'K_10': [],\n",
       " 'K_11': [],\n",
       " 'K_12': [],\n",
       " 'K_13': [],\n",
       " 'K_14': [],\n",
       " 'K_15': [],\n",
       " 'K_16': [],\n",
       " 'K_17': [],\n",
       " 'K_18': [],\n",
       " 'K_19': [],\n",
       " 'K_20': [],\n",
       " 'K_21': [],\n",
       " 'K_22': [],\n",
       " 'K_23': [],\n",
       " 'K_24': [],\n",
       " 'K_25': [],\n",
       " 'K_26': [],\n",
       " 'K_27': [],\n",
       " 'K_28': [],\n",
       " 'K_29': [],\n",
       " 'K_30': []}"
      ]
     },
     "execution_count": 150,
     "metadata": {},
     "output_type": "execute_result"
    }
   ],
   "source": [
    "panel_dict"
   ]
  },
  {
   "cell_type": "code",
   "execution_count": 234,
   "id": "48ed51bd-2cc3-4c89-b9e3-f4193fa75c53",
   "metadata": {},
   "outputs": [],
   "source": [
    "panel_dict = {'A_1':['B_1', 'B_2', 'B_3']}"
   ]
  },
  {
   "cell_type": "code",
   "execution_count": 238,
   "id": "3eda76de-7980-4322-9537-816d920bef53",
   "metadata": {},
   "outputs": [
    {
     "name": "stdout",
     "output_type": "stream",
     "text": [
      "['B_1', 'B_2', 'B_3']\n"
     ]
    }
   ],
   "source": [
    "for item in panel_dict.items():\n",
    "    print(item[1])"
   ]
  },
  {
   "cell_type": "code",
   "execution_count": 26,
   "id": "9af7b1db-9967-4fda-a5e6-9c09efcfbe56",
   "metadata": {},
   "outputs": [
    {
     "data": {
      "text/plain": [
       "{'A_1': ['B_1', 'B_2', 'B_3'], 'C_1': None}"
      ]
     },
     "execution_count": 26,
     "metadata": {},
     "output_type": "execute_result"
    }
   ],
   "source": [
    "panel_dict"
   ]
  },
  {
   "cell_type": "code",
   "execution_count": 134,
   "id": "398aaee4-7c2b-433b-9e41-7fb99633a5c5",
   "metadata": {},
   "outputs": [],
   "source": [
    "def find_corners(shell):\n",
    "    ''' find corners of hexagon'''\n",
    "    corners = [1]\n",
    "    if shell%2==0: #even\n",
    "        long = shell/2\n",
    "        short = shell/2 - 1\n",
    "        #print('long:', long, 'short:', short, 'max:', 3*(shell-1))\n",
    "        pos = 1\n",
    "        long_ = True\n",
    "        #print(pos)\n",
    "        while (pos <= 3*(shell-1) - short):\n",
    "            #print(pos)\n",
    "            if long_:\n",
    "                pos += long\n",
    "                corners.append(pos)\n",
    "                long_ = False\n",
    "            else:\n",
    "                pos += short\n",
    "                corners.append(pos)\n",
    "                long_ = True\n",
    "    else: #odd\n",
    "        max_ = 3*(shell-1)\n",
    "        edge = shell // 2\n",
    "        corners += [k*edge + 1 for k in range(1,6)]\n",
    "    return corners"
   ]
  },
  {
   "cell_type": "code",
   "execution_count": 151,
   "id": "08baa9c3-a48d-40be-aa5e-d08805ff1507",
   "metadata": {},
   "outputs": [
    {
     "data": {
      "text/plain": [
       "[1, 4, 7, 10, 13, 16]"
      ]
     },
     "execution_count": 151,
     "metadata": {},
     "output_type": "execute_result"
    }
   ],
   "source": [
    "find_corners(7)"
   ]
  },
  {
   "cell_type": "code",
   "execution_count": 8,
   "id": "8e24314c-f51e-4658-9ad7-f3a5e6093539",
   "metadata": {},
   "outputs": [],
   "source": [
    "from operator import add"
   ]
  },
  {
   "cell_type": "code",
   "execution_count": 11,
   "id": "e34d987b-def1-4a73-a4e0-43c2d923a8cf",
   "metadata": {},
   "outputs": [],
   "source": [
    "#Use hexagonal grid system\n",
    "# list of 3 entries [q,r,s]\n",
    "\n",
    "home  = [0,0,0]\n",
    "moves_even = [[0,-1,+1], [+1,0,-1], [-1,+1,0]]\n",
    "moves_odd = [[-1,0,+1], [+1,-1,0], [0,+1,-1]]\n",
    "\n",
    "moves_alph = ['a', 'b', 'c']\n",
    "\n",
    "def move_coord(list1, list2):\n",
    "    return list(map(add, list1, list2))\n",
    "\n",
    "def check_home(coord):\n",
    "    print(coord)\n",
    "    if coord ==[0,0,0]:\n",
    "        return True\n",
    "    return False\n",
    "\n",
    "def possible_moves(even):\n",
    "    if even: return [[0,-1,+1], [+1,0,-1], [-1,+1,0]]\n",
    "    else: return [[-1,0,+1], [+1,-1,0], [0,+1,-1]]\n",
    "\n",
    "#def count_homes()\n",
    "\n",
    "#def rand\n",
    "\n",
    "# def endpoints(number_steps):\n",
    "#     '''return list of possible endpoints for N steps'''\n",
    "#     even = True\n",
    "#     while number_steps > 0:\n",
    "\n",
    "        \n",
    "def paths(even, steps_left, coord):\n",
    "    if (steps_left == 2):\n",
    "        for move in possible_moves(even):\n",
    "            coord = move_coord(coord, move)\n",
    "            even = not even\n",
    "            steps_left -= 1\n",
    "            paths(even, steps_left, coord)\n",
    "    elif (steps_left == 0) or (coord == [0,0,0]):\n",
    "        print(coord)\n",
    "        return\n",
    "    else:\n",
    "        for move in possible_moves(even):\n",
    "            coord = move_coord(coord, move)\n",
    "            even = not even\n",
    "            steps_left -= 1\n",
    "            paths(even, steps_left, coord)\n",
    "\n",
    "def next_coord(even, coord):\n",
    "    next_coords = []\n",
    "    for move in possible_moves(even):\n",
    "        next_coords.append(move_coord(coord, move))\n",
    "    return next_coords\n",
    "\n",
    "def endpoints(even, ends):\n",
    "    if ends == [0,0,0]:\n",
    "        return next_coord(True, [0,0,0])\n",
    "    next_coords = []\n",
    "    for coord in ends:\n",
    "        next_coords += next_coord(even, coord)\n",
    "    return next_coords\n",
    "\n",
    "def remove_homes(lst):\n",
    "    new = []\n",
    "    for item in lst:\n",
    "        if item != [0,0,0]:\n",
    "            new.append(item)\n",
    "    return new\n",
    "\n",
    "def count_homes(lst):\n",
    "    count = 0\n",
    "    for item in lst:\n",
    "        if item == [0,0,0]:\n",
    "            count += 1\n",
    "    return count\n",
    "\n",
    "def num_paths_home(steps):\n",
    "    ''' number of paths making it home for first time in n steps '''\n",
    "    ends_ = [0,0,0]\n",
    "    even = True\n",
    "    print('step', 'destinations', 'probability')\n",
    "    print(0, ends_)\n",
    "    for i in range(1, steps+1):\n",
    "        ends_ = endpoints(even, ends_)\n",
    "        #ends_ = new_ends\n",
    "        print(i, f'{count_homes(ends_)} / {3**i}', count_homes(ends_) / 3**i)\n",
    "        ends_ = remove_homes(ends_)\n",
    "        even = not even\n",
    "    return\n",
    "\n",
    "def mod(coord):\n",
    "    sum_ = 0\n",
    "    for num in coord:\n",
    "        sum_ += abs(num)\n",
    "    return sum_\n",
    "\n",
    "def steps_away(coord):\n",
    "    ''' return min number of steps from home '''\n",
    "    return mod(coord)/2\n",
    "\n",
    "def remove_steps_away(lst, steps_left):\n",
    "    ends = []\n",
    "    for coord in lst:\n",
    "        if (steps_away(coord) < steps_left):\n",
    "            ends.append(coord)\n",
    "    return ends\n",
    "\n",
    "# def num_paths_home_remove(steps):\n",
    "#     ''' number of paths making it home for first time in n steps '''\n",
    "#     ends_ = [0,0,0]\n",
    "#     even = True\n",
    "#     print('step', 'destinations', 'probability')\n",
    "#     print(0, ends_)\n",
    "#     for i in range(1, steps+1):\n",
    "#         ends_ = endpoints(even, ends_)\n",
    "#         for (i > 16):\n",
    "#             ends_ = remove_steps_away(ends_, steps - i)\n",
    "#         #ends_ = new_ends\n",
    "#         print(i, f'{count_homes(ends_)} / {3**i}', count_homes(ends_) / 3**i)\n",
    "#         ends_ = remove_homes(ends_)\n",
    "#         even = not even\n",
    "#     return"
   ]
  },
  {
   "cell_type": "code",
   "execution_count": 13,
   "id": "b3c98aaa-10f3-45b2-907f-5a7119961f01",
   "metadata": {},
   "outputs": [
    {
     "data": {
      "text/plain": [
       "[[-1, -1, 2],\n",
       " [1, -2, 1],\n",
       " [0, 0, 0],\n",
       " [0, 0, 0],\n",
       " [2, -1, -1],\n",
       " [1, 1, -2],\n",
       " [-2, 1, 1],\n",
       " [0, 0, 0],\n",
       " [-1, 2, -1]]"
      ]
     },
     "execution_count": 13,
     "metadata": {},
     "output_type": "execute_result"
    }
   ],
   "source": [
    "endpoints(False, next_coord(True, [0,0,0]))"
   ]
  },
  {
   "cell_type": "code",
   "execution_count": 3,
   "id": "e4842146-54fa-4be5-8890-cdab0a6f6235",
   "metadata": {},
   "outputs": [
    {
     "data": {
      "text/plain": [
       "1"
      ]
     },
     "execution_count": 3,
     "metadata": {},
     "output_type": "execute_result"
    }
   ],
   "source": [
    "abs(-1)"
   ]
  },
  {
   "cell_type": "code",
   "execution_count": 4,
   "id": "e0cda780-c762-4687-94fa-ea427aadea33",
   "metadata": {},
   "outputs": [
    {
     "data": {
      "text/plain": [
       "3486784401"
      ]
     },
     "execution_count": 4,
     "metadata": {},
     "output_type": "execute_result"
    }
   ],
   "source": [
    "3**20"
   ]
  },
  {
   "cell_type": "code",
   "execution_count": 5,
   "id": "ed88b2ae-0630-4d64-bba3-c3f7ec20d819",
   "metadata": {},
   "outputs": [
    {
     "name": "stdout",
     "output_type": "stream",
     "text": [
      "[0, 0, 0]\n"
     ]
    },
    {
     "data": {
      "text/plain": [
       "True"
      ]
     },
     "execution_count": 5,
     "metadata": {},
     "output_type": "execute_result"
    }
   ],
   "source": [
    "check_home(move_coord(move_coord(home, moves_even[1]), moves_odd[0]))"
   ]
  },
  {
   "cell_type": "code",
   "execution_count": 6,
   "id": "874c30fd-4d28-44fb-a8b3-4c721bac96b3",
   "metadata": {},
   "outputs": [
    {
     "data": {
      "text/plain": [
       "[[0, -1, 1], [1, 0, -1], [-1, 1, 0]]"
      ]
     },
     "execution_count": 6,
     "metadata": {},
     "output_type": "execute_result"
    }
   ],
   "source": [
    "next_coord(True, [0,0,0])"
   ]
  },
  {
   "cell_type": "code",
   "execution_count": 7,
   "id": "73e5bc3e-5f66-46bf-8646-b0e4662d9d98",
   "metadata": {},
   "outputs": [
    {
     "data": {
      "text/plain": [
       "[[-1, -1, 2],\n",
       " [1, -2, 1],\n",
       " [0, 0, 0],\n",
       " [0, 0, 0],\n",
       " [2, -1, -1],\n",
       " [1, 1, -2],\n",
       " [-2, 1, 1],\n",
       " [0, 0, 0],\n",
       " [-1, 2, -1]]"
      ]
     },
     "execution_count": 7,
     "metadata": {},
     "output_type": "execute_result"
    }
   ],
   "source": [
    "endpoints(False,next_coord(True, [0,0,0]))"
   ]
  },
  {
   "cell_type": "code",
   "execution_count": 8,
   "id": "9200f682-35e5-4bcb-b0c2-222de1535204",
   "metadata": {},
   "outputs": [
    {
     "data": {
      "text/plain": [
       "[[-1, -1, 2], [1, -2, 1], [2, -1, -1], [1, 1, -2], [-2, 1, 1], [-1, 2, -1]]"
      ]
     },
     "execution_count": 8,
     "metadata": {},
     "output_type": "execute_result"
    }
   ],
   "source": [
    "remove_homes(endpoints(False,next_coord(True, [0,0,0])))"
   ]
  },
  {
   "cell_type": "code",
   "execution_count": 9,
   "id": "3e9892fa-6f7b-480f-8c9c-ed0ccc17db21",
   "metadata": {},
   "outputs": [
    {
     "data": {
      "text/plain": [
       "[[0, -1, 1], [1, 0, -1], [-1, 1, 0]]"
      ]
     },
     "execution_count": 9,
     "metadata": {},
     "output_type": "execute_result"
    }
   ],
   "source": [
    "endpoints(True, [0,0,0])"
   ]
  },
  {
   "cell_type": "code",
   "execution_count": 10,
   "id": "7f325f94-e1a4-436e-be72-f62626359fa5",
   "metadata": {
    "collapsed": true,
    "jupyter": {
     "outputs_hidden": true
    },
    "tags": []
   },
   "outputs": [
    {
     "name": "stdout",
     "output_type": "stream",
     "text": [
      "step destinations probability\n",
      "0 [0, 0, 0]\n",
      "1 0 / 3 0.0\n",
      "2 3 / 9 0.3333333333333333\n",
      "3 0 / 27 0.0\n",
      "4 6 / 81 0.07407407407407407\n",
      "5 0 / 243 0.0\n",
      "6 30 / 729 0.0411522633744856\n",
      "7 0 / 2187 0.0\n",
      "8 180 / 6561 0.027434842249657063\n",
      "9 0 / 19683 0.0\n",
      "10 1188 / 59049 0.020118884316415182\n",
      "11 0 / 177147 0.0\n",
      "12 8322 / 531441 0.01565931119352854\n",
      "13 0 / 1594323 0.0\n",
      "14 60714 / 4782969 0.01269378915063008\n",
      "15 0 / 14348907 0.0\n",
      "16 456174 / 43046721 0.010597183464914783\n",
      "17 0 / 129140163 0.0\n"
     ]
    },
    {
     "name": "stderr",
     "output_type": "stream",
     "text": [
      "ERROR:root:Internal Python error in the inspect module.\n",
      "Below is the traceback from this internal error.\n",
      "\n"
     ]
    },
    {
     "name": "stdout",
     "output_type": "stream",
     "text": [
      "Traceback (most recent call last):\n",
      "  File \"C:\\Users\\jamie\\anaconda3\\lib\\site-packages\\IPython\\core\\interactiveshell.py\", line 3437, in run_code\n",
      "    exec(code_obj, self.user_global_ns, self.user_ns)\n",
      "  File \"<ipython-input-10-0e57992b2d3a>\", line 1, in <module>\n",
      "    num_paths_home(20)\n",
      "  File \"<ipython-input-2-87376d115283>\", line 85, in num_paths_home\n",
      "    ends_ = endpoints(even, ends_)\n",
      "  File \"<ipython-input-2-87376d115283>\", line 61, in endpoints\n",
      "    next_coords += next_coord(even, coord)\n",
      "  File \"<ipython-input-2-87376d115283>\", line 53, in next_coord\n",
      "    next_coords.append(move_coord(coord, move))\n",
      "KeyboardInterrupt\n",
      "\n",
      "During handling of the above exception, another exception occurred:\n",
      "\n",
      "Traceback (most recent call last):\n",
      "  File \"C:\\Users\\jamie\\anaconda3\\lib\\site-packages\\IPython\\core\\interactiveshell.py\", line 2061, in showtraceback\n",
      "    stb = value._render_traceback_()\n",
      "AttributeError: 'KeyboardInterrupt' object has no attribute '_render_traceback_'\n",
      "\n",
      "During handling of the above exception, another exception occurred:\n",
      "\n",
      "Traceback (most recent call last):\n",
      "  File \"C:\\Users\\jamie\\anaconda3\\lib\\site-packages\\IPython\\core\\ultratb.py\", line 1101, in get_records\n",
      "    return _fixed_getinnerframes(etb, number_of_lines_of_context, tb_offset)\n",
      "  File \"C:\\Users\\jamie\\anaconda3\\lib\\site-packages\\IPython\\core\\ultratb.py\", line 248, in wrapped\n",
      "    return f(*args, **kwargs)\n",
      "  File \"C:\\Users\\jamie\\anaconda3\\lib\\site-packages\\IPython\\core\\ultratb.py\", line 281, in _fixed_getinnerframes\n",
      "    records = fix_frame_records_filenames(inspect.getinnerframes(etb, context))\n",
      "  File \"C:\\Users\\jamie\\anaconda3\\lib\\inspect.py\", line 1515, in getinnerframes\n",
      "    frameinfo = (tb.tb_frame,) + getframeinfo(tb, context)\n",
      "  File \"C:\\Users\\jamie\\anaconda3\\lib\\inspect.py\", line 1473, in getframeinfo\n",
      "    filename = getsourcefile(frame) or getfile(frame)\n",
      "  File \"C:\\Users\\jamie\\anaconda3\\lib\\inspect.py\", line 705, in getsourcefile\n",
      "    if os.path.exists(filename):\n",
      "  File \"C:\\Users\\jamie\\anaconda3\\lib\\genericpath.py\", line 19, in exists\n",
      "    os.stat(path)\n",
      "KeyboardInterrupt\n"
     ]
    },
    {
     "ename": "TypeError",
     "evalue": "object of type 'NoneType' has no len()",
     "output_type": "error",
     "traceback": [
      "\u001b[1;31m---------------------------------------------------------------------------\u001b[0m",
      "\u001b[1;31mKeyboardInterrupt\u001b[0m                         Traceback (most recent call last)",
      "    \u001b[1;31m[... skipping hidden 1 frame]\u001b[0m\n",
      "\u001b[1;32m<ipython-input-10-0e57992b2d3a>\u001b[0m in \u001b[0;36m<module>\u001b[1;34m\u001b[0m\n\u001b[1;32m----> 1\u001b[1;33m \u001b[0mnum_paths_home\u001b[0m\u001b[1;33m(\u001b[0m\u001b[1;36m20\u001b[0m\u001b[1;33m)\u001b[0m\u001b[1;33m\u001b[0m\u001b[1;33m\u001b[0m\u001b[0m\n\u001b[0m",
      "\u001b[1;32m<ipython-input-2-87376d115283>\u001b[0m in \u001b[0;36mnum_paths_home\u001b[1;34m(steps)\u001b[0m\n\u001b[0;32m     84\u001b[0m     \u001b[1;32mfor\u001b[0m \u001b[0mi\u001b[0m \u001b[1;32min\u001b[0m \u001b[0mrange\u001b[0m\u001b[1;33m(\u001b[0m\u001b[1;36m1\u001b[0m\u001b[1;33m,\u001b[0m \u001b[0msteps\u001b[0m\u001b[1;33m+\u001b[0m\u001b[1;36m1\u001b[0m\u001b[1;33m)\u001b[0m\u001b[1;33m:\u001b[0m\u001b[1;33m\u001b[0m\u001b[1;33m\u001b[0m\u001b[0m\n\u001b[1;32m---> 85\u001b[1;33m         \u001b[0mends_\u001b[0m \u001b[1;33m=\u001b[0m \u001b[0mendpoints\u001b[0m\u001b[1;33m(\u001b[0m\u001b[0meven\u001b[0m\u001b[1;33m,\u001b[0m \u001b[0mends_\u001b[0m\u001b[1;33m)\u001b[0m\u001b[1;33m\u001b[0m\u001b[1;33m\u001b[0m\u001b[0m\n\u001b[0m\u001b[0;32m     86\u001b[0m         \u001b[1;31m#ends_ = new_ends\u001b[0m\u001b[1;33m\u001b[0m\u001b[1;33m\u001b[0m\u001b[1;33m\u001b[0m\u001b[0m\n",
      "\u001b[1;32m<ipython-input-2-87376d115283>\u001b[0m in \u001b[0;36mendpoints\u001b[1;34m(even, ends)\u001b[0m\n\u001b[0;32m     60\u001b[0m     \u001b[1;32mfor\u001b[0m \u001b[0mcoord\u001b[0m \u001b[1;32min\u001b[0m \u001b[0mends\u001b[0m\u001b[1;33m:\u001b[0m\u001b[1;33m\u001b[0m\u001b[1;33m\u001b[0m\u001b[0m\n\u001b[1;32m---> 61\u001b[1;33m         \u001b[0mnext_coords\u001b[0m \u001b[1;33m+=\u001b[0m \u001b[0mnext_coord\u001b[0m\u001b[1;33m(\u001b[0m\u001b[0meven\u001b[0m\u001b[1;33m,\u001b[0m \u001b[0mcoord\u001b[0m\u001b[1;33m)\u001b[0m\u001b[1;33m\u001b[0m\u001b[1;33m\u001b[0m\u001b[0m\n\u001b[0m\u001b[0;32m     62\u001b[0m     \u001b[1;32mreturn\u001b[0m \u001b[0mnext_coords\u001b[0m\u001b[1;33m\u001b[0m\u001b[1;33m\u001b[0m\u001b[0m\n",
      "\u001b[1;32m<ipython-input-2-87376d115283>\u001b[0m in \u001b[0;36mnext_coord\u001b[1;34m(even, coord)\u001b[0m\n\u001b[0;32m     52\u001b[0m     \u001b[1;32mfor\u001b[0m \u001b[0mmove\u001b[0m \u001b[1;32min\u001b[0m \u001b[0mpossible_moves\u001b[0m\u001b[1;33m(\u001b[0m\u001b[0meven\u001b[0m\u001b[1;33m)\u001b[0m\u001b[1;33m:\u001b[0m\u001b[1;33m\u001b[0m\u001b[1;33m\u001b[0m\u001b[0m\n\u001b[1;32m---> 53\u001b[1;33m         \u001b[0mnext_coords\u001b[0m\u001b[1;33m.\u001b[0m\u001b[0mappend\u001b[0m\u001b[1;33m(\u001b[0m\u001b[0mmove_coord\u001b[0m\u001b[1;33m(\u001b[0m\u001b[0mcoord\u001b[0m\u001b[1;33m,\u001b[0m \u001b[0mmove\u001b[0m\u001b[1;33m)\u001b[0m\u001b[1;33m)\u001b[0m\u001b[1;33m\u001b[0m\u001b[1;33m\u001b[0m\u001b[0m\n\u001b[0m\u001b[0;32m     54\u001b[0m     \u001b[1;32mreturn\u001b[0m \u001b[0mnext_coords\u001b[0m\u001b[1;33m\u001b[0m\u001b[1;33m\u001b[0m\u001b[0m\n",
      "\u001b[1;31mKeyboardInterrupt\u001b[0m: ",
      "\nDuring handling of the above exception, another exception occurred:\n",
      "\u001b[1;31mAttributeError\u001b[0m                            Traceback (most recent call last)",
      "\u001b[1;32m~\\anaconda3\\lib\\site-packages\\IPython\\core\\interactiveshell.py\u001b[0m in \u001b[0;36mshowtraceback\u001b[1;34m(self, exc_tuple, filename, tb_offset, exception_only, running_compiled_code)\u001b[0m\n\u001b[0;32m   2060\u001b[0m                         \u001b[1;31m# in the engines. This should return a list of strings.\u001b[0m\u001b[1;33m\u001b[0m\u001b[1;33m\u001b[0m\u001b[1;33m\u001b[0m\u001b[0m\n\u001b[1;32m-> 2061\u001b[1;33m                         \u001b[0mstb\u001b[0m \u001b[1;33m=\u001b[0m \u001b[0mvalue\u001b[0m\u001b[1;33m.\u001b[0m\u001b[0m_render_traceback_\u001b[0m\u001b[1;33m(\u001b[0m\u001b[1;33m)\u001b[0m\u001b[1;33m\u001b[0m\u001b[1;33m\u001b[0m\u001b[0m\n\u001b[0m\u001b[0;32m   2062\u001b[0m                     \u001b[1;32mexcept\u001b[0m \u001b[0mException\u001b[0m\u001b[1;33m:\u001b[0m\u001b[1;33m\u001b[0m\u001b[1;33m\u001b[0m\u001b[0m\n",
      "\u001b[1;31mAttributeError\u001b[0m: 'KeyboardInterrupt' object has no attribute '_render_traceback_'",
      "\nDuring handling of the above exception, another exception occurred:\n",
      "\u001b[1;31mTypeError\u001b[0m                                 Traceback (most recent call last)",
      "    \u001b[1;31m[... skipping hidden 1 frame]\u001b[0m\n",
      "\u001b[1;32m~\\anaconda3\\lib\\site-packages\\IPython\\core\\interactiveshell.py\u001b[0m in \u001b[0;36mshowtraceback\u001b[1;34m(self, exc_tuple, filename, tb_offset, exception_only, running_compiled_code)\u001b[0m\n\u001b[0;32m   2061\u001b[0m                         \u001b[0mstb\u001b[0m \u001b[1;33m=\u001b[0m \u001b[0mvalue\u001b[0m\u001b[1;33m.\u001b[0m\u001b[0m_render_traceback_\u001b[0m\u001b[1;33m(\u001b[0m\u001b[1;33m)\u001b[0m\u001b[1;33m\u001b[0m\u001b[1;33m\u001b[0m\u001b[0m\n\u001b[0;32m   2062\u001b[0m                     \u001b[1;32mexcept\u001b[0m \u001b[0mException\u001b[0m\u001b[1;33m:\u001b[0m\u001b[1;33m\u001b[0m\u001b[1;33m\u001b[0m\u001b[0m\n\u001b[1;32m-> 2063\u001b[1;33m                         stb = self.InteractiveTB.structured_traceback(etype,\n\u001b[0m\u001b[0;32m   2064\u001b[0m                                             value, tb, tb_offset=tb_offset)\n\u001b[0;32m   2065\u001b[0m \u001b[1;33m\u001b[0m\u001b[0m\n",
      "\u001b[1;32m~\\anaconda3\\lib\\site-packages\\IPython\\core\\ultratb.py\u001b[0m in \u001b[0;36mstructured_traceback\u001b[1;34m(self, etype, value, tb, tb_offset, number_of_lines_of_context)\u001b[0m\n\u001b[0;32m   1365\u001b[0m         \u001b[1;32melse\u001b[0m\u001b[1;33m:\u001b[0m\u001b[1;33m\u001b[0m\u001b[1;33m\u001b[0m\u001b[0m\n\u001b[0;32m   1366\u001b[0m             \u001b[0mself\u001b[0m\u001b[1;33m.\u001b[0m\u001b[0mtb\u001b[0m \u001b[1;33m=\u001b[0m \u001b[0mtb\u001b[0m\u001b[1;33m\u001b[0m\u001b[1;33m\u001b[0m\u001b[0m\n\u001b[1;32m-> 1367\u001b[1;33m         return FormattedTB.structured_traceback(\n\u001b[0m\u001b[0;32m   1368\u001b[0m             self, etype, value, tb, tb_offset, number_of_lines_of_context)\n\u001b[0;32m   1369\u001b[0m \u001b[1;33m\u001b[0m\u001b[0m\n",
      "\u001b[1;32m~\\anaconda3\\lib\\site-packages\\IPython\\core\\ultratb.py\u001b[0m in \u001b[0;36mstructured_traceback\u001b[1;34m(self, etype, value, tb, tb_offset, number_of_lines_of_context)\u001b[0m\n\u001b[0;32m   1265\u001b[0m         \u001b[1;32mif\u001b[0m \u001b[0mmode\u001b[0m \u001b[1;32min\u001b[0m \u001b[0mself\u001b[0m\u001b[1;33m.\u001b[0m\u001b[0mverbose_modes\u001b[0m\u001b[1;33m:\u001b[0m\u001b[1;33m\u001b[0m\u001b[1;33m\u001b[0m\u001b[0m\n\u001b[0;32m   1266\u001b[0m             \u001b[1;31m# Verbose modes need a full traceback\u001b[0m\u001b[1;33m\u001b[0m\u001b[1;33m\u001b[0m\u001b[1;33m\u001b[0m\u001b[0m\n\u001b[1;32m-> 1267\u001b[1;33m             return VerboseTB.structured_traceback(\n\u001b[0m\u001b[0;32m   1268\u001b[0m                 \u001b[0mself\u001b[0m\u001b[1;33m,\u001b[0m \u001b[0metype\u001b[0m\u001b[1;33m,\u001b[0m \u001b[0mvalue\u001b[0m\u001b[1;33m,\u001b[0m \u001b[0mtb\u001b[0m\u001b[1;33m,\u001b[0m \u001b[0mtb_offset\u001b[0m\u001b[1;33m,\u001b[0m \u001b[0mnumber_of_lines_of_context\u001b[0m\u001b[1;33m\u001b[0m\u001b[1;33m\u001b[0m\u001b[0m\n\u001b[0;32m   1269\u001b[0m             )\n",
      "\u001b[1;32m~\\anaconda3\\lib\\site-packages\\IPython\\core\\ultratb.py\u001b[0m in \u001b[0;36mstructured_traceback\u001b[1;34m(self, etype, evalue, etb, tb_offset, number_of_lines_of_context)\u001b[0m\n\u001b[0;32m   1122\u001b[0m         \u001b[1;34m\"\"\"Return a nice text document describing the traceback.\"\"\"\u001b[0m\u001b[1;33m\u001b[0m\u001b[1;33m\u001b[0m\u001b[0m\n\u001b[0;32m   1123\u001b[0m \u001b[1;33m\u001b[0m\u001b[0m\n\u001b[1;32m-> 1124\u001b[1;33m         formatted_exception = self.format_exception_as_a_whole(etype, evalue, etb, number_of_lines_of_context,\n\u001b[0m\u001b[0;32m   1125\u001b[0m                                                                tb_offset)\n\u001b[0;32m   1126\u001b[0m \u001b[1;33m\u001b[0m\u001b[0m\n",
      "\u001b[1;32m~\\anaconda3\\lib\\site-packages\\IPython\\core\\ultratb.py\u001b[0m in \u001b[0;36mformat_exception_as_a_whole\u001b[1;34m(self, etype, evalue, etb, number_of_lines_of_context, tb_offset)\u001b[0m\n\u001b[0;32m   1080\u001b[0m \u001b[1;33m\u001b[0m\u001b[0m\n\u001b[0;32m   1081\u001b[0m \u001b[1;33m\u001b[0m\u001b[0m\n\u001b[1;32m-> 1082\u001b[1;33m         \u001b[0mlast_unique\u001b[0m\u001b[1;33m,\u001b[0m \u001b[0mrecursion_repeat\u001b[0m \u001b[1;33m=\u001b[0m \u001b[0mfind_recursion\u001b[0m\u001b[1;33m(\u001b[0m\u001b[0morig_etype\u001b[0m\u001b[1;33m,\u001b[0m \u001b[0mevalue\u001b[0m\u001b[1;33m,\u001b[0m \u001b[0mrecords\u001b[0m\u001b[1;33m)\u001b[0m\u001b[1;33m\u001b[0m\u001b[1;33m\u001b[0m\u001b[0m\n\u001b[0m\u001b[0;32m   1083\u001b[0m \u001b[1;33m\u001b[0m\u001b[0m\n\u001b[0;32m   1084\u001b[0m         \u001b[0mframes\u001b[0m \u001b[1;33m=\u001b[0m \u001b[0mself\u001b[0m\u001b[1;33m.\u001b[0m\u001b[0mformat_records\u001b[0m\u001b[1;33m(\u001b[0m\u001b[0mrecords\u001b[0m\u001b[1;33m,\u001b[0m \u001b[0mlast_unique\u001b[0m\u001b[1;33m,\u001b[0m \u001b[0mrecursion_repeat\u001b[0m\u001b[1;33m)\u001b[0m\u001b[1;33m\u001b[0m\u001b[1;33m\u001b[0m\u001b[0m\n",
      "\u001b[1;32m~\\anaconda3\\lib\\site-packages\\IPython\\core\\ultratb.py\u001b[0m in \u001b[0;36mfind_recursion\u001b[1;34m(etype, value, records)\u001b[0m\n\u001b[0;32m    380\u001b[0m     \u001b[1;31m# first frame (from in to out) that looks different.\u001b[0m\u001b[1;33m\u001b[0m\u001b[1;33m\u001b[0m\u001b[1;33m\u001b[0m\u001b[0m\n\u001b[0;32m    381\u001b[0m     \u001b[1;32mif\u001b[0m \u001b[1;32mnot\u001b[0m \u001b[0mis_recursion_error\u001b[0m\u001b[1;33m(\u001b[0m\u001b[0metype\u001b[0m\u001b[1;33m,\u001b[0m \u001b[0mvalue\u001b[0m\u001b[1;33m,\u001b[0m \u001b[0mrecords\u001b[0m\u001b[1;33m)\u001b[0m\u001b[1;33m:\u001b[0m\u001b[1;33m\u001b[0m\u001b[1;33m\u001b[0m\u001b[0m\n\u001b[1;32m--> 382\u001b[1;33m         \u001b[1;32mreturn\u001b[0m \u001b[0mlen\u001b[0m\u001b[1;33m(\u001b[0m\u001b[0mrecords\u001b[0m\u001b[1;33m)\u001b[0m\u001b[1;33m,\u001b[0m \u001b[1;36m0\u001b[0m\u001b[1;33m\u001b[0m\u001b[1;33m\u001b[0m\u001b[0m\n\u001b[0m\u001b[0;32m    383\u001b[0m \u001b[1;33m\u001b[0m\u001b[0m\n\u001b[0;32m    384\u001b[0m     \u001b[1;31m# Select filename, lineno, func_name to track frames with\u001b[0m\u001b[1;33m\u001b[0m\u001b[1;33m\u001b[0m\u001b[1;33m\u001b[0m\u001b[0m\n",
      "\u001b[1;31mTypeError\u001b[0m: object of type 'NoneType' has no len()"
     ]
    }
   ],
   "source": [
    "num_paths_home(20)"
   ]
  },
  {
   "cell_type": "code",
   "execution_count": 98,
   "id": "eabb94d9-ddb4-40b7-bce2-94dc0622ab57",
   "metadata": {},
   "outputs": [
    {
     "name": "stdout",
     "output_type": "stream",
     "text": [
      "step destinations probability\n",
      "0 [0, 0, 0]\n",
      "1 0 / 3 0.0\n",
      "2 3 / 9 0.3333333333333333\n",
      "3 0 / 27 0.0\n",
      "4 6 / 81 0.07407407407407407\n",
      "5 0 / 243 0.0\n",
      "6 30 / 729 0.0411522633744856\n",
      "7 0 / 2187 0.0\n",
      "8 180 / 6561 0.027434842249657063\n",
      "9 0 / 19683 0.0\n",
      "10 1188 / 59049 0.020118884316415182\n",
      "11 0 / 177147 0.0\n",
      "12 8322 / 531441 0.01565931119352854\n",
      "13 0 / 1594323 0.0\n",
      "14 60714 / 4782969 0.01269378915063008\n",
      "15 0 / 14348907 0.0\n",
      "16 456174 / 43046721 0.010597183464914783\n"
     ]
    },
    {
     "name": "stderr",
     "output_type": "stream",
     "text": [
      "\n",
      "KeyboardInterrupt\n",
      "\n"
     ]
    }
   ],
   "source": [
    "num_paths_home_remove(21)"
   ]
  },
  {
   "cell_type": "code",
   "execution_count": 29,
   "id": "31576bda-8aaa-4e44-9be0-eb6e0c6b597a",
   "metadata": {},
   "outputs": [
    {
     "data": {
      "text/plain": [
       "0.5350636811570387"
      ]
     },
     "execution_count": 29,
     "metadata": {},
     "output_type": "execute_result"
    }
   ],
   "source": [
    "3/9 + 6/81 + 30/729 + 180/6561 + 1188/59049 + 8322/531441 + 60714/4782969 + 456174/43046721"
   ]
  },
  {
   "cell_type": "code",
   "execution_count": 30,
   "id": "23e4a87e-ed33-4272-b516-3fdebceeb12d",
   "metadata": {},
   "outputs": [
    {
     "data": {
      "text/plain": [
       "0.46493631884296127"
      ]
     },
     "execution_count": 30,
     "metadata": {},
     "output_type": "execute_result"
    }
   ],
   "source": [
    "1 - 0.5350636811570387"
   ]
  },
  {
   "cell_type": "code",
   "execution_count": 13,
   "id": "e7c0af79-4989-4817-8d7c-63c74d380033",
   "metadata": {},
   "outputs": [],
   "source": [
    "import numpy as np"
   ]
  },
  {
   "cell_type": "code",
   "execution_count": 14,
   "id": "8fa611b1-02d0-4f73-99c8-1052daf8ad52",
   "metadata": {},
   "outputs": [],
   "source": [
    "## optimise with numpy\n",
    "home = np.array([0,0,0])\n",
    "moves_even = np.array([[0,-1,+1], [+1,0,-1], [-1,+1,0]])\n",
    "moves_odd = np.array([[-1,0,+1], [+1,-1,0], [0,+1,-1]])"
   ]
  },
  {
   "cell_type": "code",
   "execution_count": 19,
   "id": "a204fe1e-516d-43fc-80f5-2c7914c016b0",
   "metadata": {},
   "outputs": [
    {
     "data": {
      "text/plain": [
       "array([[ 0, -1,  1],\n",
       "       [ 1,  0, -1],\n",
       "       [-1,  1,  0]])"
      ]
     },
     "execution_count": 19,
     "metadata": {},
     "output_type": "execute_result"
    }
   ],
   "source": [
    "np.array([ home + np.array([-1,0,+1]), home + np.array([+1,-1,0]), home + np.array([0,+1,-1])])"
   ]
  },
  {
   "cell_type": "code",
   "execution_count": 89,
   "id": "98b93225-a4e9-4e35-9e38-e54a54377c86",
   "metadata": {},
   "outputs": [],
   "source": [
    "def next_coords_np(coord, even):\n",
    "    '''return possible coords to move to'''\n",
    "    if even:\n",
    "        return np.array([[0,-1,+1], [+1,0,-1], [-1,+1,0]]) + coord\n",
    "    else:\n",
    "        return np.array([[-1,0,+1], [+1,-1,0], [0,+1,-1]]) + coord\n",
    "\n",
    "def possible_coords_np(coords, even):\n",
    "    '''return possible coords to move to for a list'''\n",
    "    if np.shape(coords)==(3,):\n",
    "        return next_coords_np(coords, even)\n",
    "    poss = np.empty((1,3))\n",
    "    for coord in coords:\n",
    "        #print(next_coords_np(coord, even))\n",
    "        poss = np.concatenate((poss, next_coords_np(coord, even)))\n",
    "    return poss[1:]\n",
    "\n",
    "# def remove_homes_np(coords):\n",
    "#     '''remove home coords from array of coords'''\n",
    "#     new = np.delete(coords, np.where(coords == 0)[0], axis=0)\n",
    "#     if np.shape(new) == (0, 3):\n",
    "#         return coords\n",
    "#     return new\n",
    "\n",
    "#a[~(a==0).all(1)]\n",
    "def remove_homes_np(coords):\n",
    "    '''remove home coords from array of coords'''\n",
    "    return coords[~(coords==0).all(1)]\n",
    "    #if np.shape(new) == (0, 3):\n",
    "    #    return coords\n",
    "    #return new\n",
    "\n",
    "def count_homes_np(coords):\n",
    "    '''count home coords from array of coords'''\n",
    "    #return (np.absolute(coords).sum() < 1.).sum()\n",
    "    return np.sum(~coords.any(1))\n",
    "\n",
    "def num_paths_home_np(home, steps):\n",
    "    paths = home\n",
    "    even = True\n",
    "    print('step', 'destinations', 'probability')\n",
    "    for i in range(1, steps+1):\n",
    "        paths = possible_coords_np(paths, even)\n",
    "        print(i, f'{count_homes_np(paths)} / {3**i}', count_homes_np(paths) / 3**i)\n",
    "        #print('paths, length:', len(paths))\n",
    "        #print(paths)\n",
    "        paths = remove_homes_np(paths)\n",
    "        #print('removed, length', len(paths))\n",
    "        #print(paths)\n",
    "        even = not even\n",
    "    return\n",
    "\n",
    "\n",
    "#trying to optimise\n",
    "def possible_coords_np_tiles_even(coords):\n",
    "    '''return possible coords to move to for a list'''\n",
    "    leng = len(coords)\n",
    "    poss = np.tile(coords_2, (3,1))\n",
    "    #print(leng, np.shape(poss))\n",
    "    for i in range(leng):\n",
    "        poss[i] = coords[i] + np.array([0,-1,+1])\n",
    "        poss[i+leng] = coords[i] + np.array([+1,0,-1])\n",
    "        poss[i+2*leng] = coords[i] + np.array([-1,+1,0])\n",
    "    return poss\n",
    "\n",
    "def possible_coords_np_zeros_even(coords):\n",
    "    '''return possible coords to move to for a list'''\n",
    "    leng = len(coords)\n",
    "    poss = np.zeros((3*leng, 3))\n",
    "    #print(leng, np.shape(poss))\n",
    "    for i in range(leng):\n",
    "        poss[i] = coords[i] + np.array([0,-1,+1])\n",
    "        poss[i+leng] = coords[i] + np.array([+1,0,-1])\n",
    "        poss[i+2*leng] = coords[i] + np.array([-1,+1,0])\n",
    "    return poss\n",
    "\n",
    "def possible_coords_np_tiles_odd(coords):\n",
    "    '''return possible coords to move to for a list'''\n",
    "    leng = len(coords)\n",
    "    poss = np.tile(coords_2, (3,1))\n",
    "    #print(leng, np.shape(poss))\n",
    "    for i in range(leng):\n",
    "        poss[i] = coords[i] + np.array([-1,0,+1])\n",
    "        poss[i+leng] = coords[i] + np.array([+1,-1,0])\n",
    "        poss[i+2*leng] = coords[i] + np.array([0,+1,-1])\n",
    "    return poss\n",
    "\n",
    "def possible_coords_np_zeros_odd(coords):\n",
    "    '''return possible coords to move to for a list'''\n",
    "    leng = len(coords)\n",
    "    poss = np.zeros((3*leng, 3))\n",
    "    #print(leng, np.shape(poss))\n",
    "    for i in range(leng):\n",
    "        poss[i] = coords[i] + np.array([-1,0,+1])\n",
    "        poss[i+leng] = coords[i] + np.array([+1,-1,0])\n",
    "        poss[i+2*leng] = coords[i] + np.array([0,+1,-1])\n",
    "    return poss\n",
    "\n",
    "\n",
    "# def possible_coords_np_resize(coords):\n",
    "#     '''return possible coords to move to for a list'''\n",
    "#     leng = len(coords)\n",
    "#     poss = np.array((coords, coords, coords))\n",
    "#     #print(leng, np.shape(poss))\n",
    "#     for i in range(leng):\n",
    "#         poss[i] = coords[i] + np.array([-1,0,+1])\n",
    "#         poss[i+leng] = coords[i] + np.array([+1,-1,0])\n",
    "#         poss[i+2*leng] = coords[i] + np.array([0,+1,-1])\n",
    "#     return poss\n",
    "\n",
    "def num_paths_home_np_zeros(home, steps):\n",
    "    paths = home\n",
    "    print('step', 'destinations', 'probability')\n",
    "    for i in range(1, steps+1):\n",
    "        if i%2 == 0: paths = possible_coords_np_zeros_even(paths)\n",
    "        else: paths = possible_coords_np_zeros_odd(paths)\n",
    "        print(i, f'{count_homes_np(paths)} / {3**i}', count_homes_np(paths) / 3**i)\n",
    "\n",
    "        #paths = remove_homes_np(paths)\n",
    "    return"
   ]
  },
  {
   "cell_type": "code",
   "execution_count": 90,
   "id": "b9e5ed75-1eb6-47f1-a242-63c1655f21b9",
   "metadata": {},
   "outputs": [],
   "source": [
    "coords_2 = np.array([[-1., -1.,  2.],\n",
    "       [ 1., -2.,  1.],\n",
    "       [ 0.,  0.,  0.],\n",
    "       [ 0.,  0.,  0.],\n",
    "       [ 2., -1., -1.],\n",
    "       [ 1.,  1., -2.],\n",
    "       [-2.,  1.,  1.],\n",
    "       [ 0.,  0.,  0.],\n",
    "       [-1.,  2., -1.]])"
   ]
  },
  {
   "cell_type": "code",
   "execution_count": 91,
   "id": "784db75e-e6aa-4a48-9594-2a93103da775",
   "metadata": {},
   "outputs": [
    {
     "data": {
      "text/plain": [
       "array([[-1., -1.,  2.],\n",
       "       [ 1., -2.,  1.],\n",
       "       [ 0.,  0.,  0.],\n",
       "       [ 0.,  0.,  0.],\n",
       "       [ 2., -1., -1.],\n",
       "       [ 1.,  1., -2.],\n",
       "       [-2.,  1.,  1.],\n",
       "       [ 0.,  0.,  0.],\n",
       "       [-1.,  2., -1.],\n",
       "       [-1., -1.,  2.],\n",
       "       [ 1., -2.,  1.],\n",
       "       [ 0.,  0.,  0.],\n",
       "       [ 0.,  0.,  0.],\n",
       "       [ 2., -1., -1.],\n",
       "       [ 1.,  1., -2.],\n",
       "       [-2.,  1.,  1.],\n",
       "       [ 0.,  0.,  0.],\n",
       "       [-1.,  2., -1.]])"
      ]
     },
     "execution_count": 91,
     "metadata": {},
     "output_type": "execute_result"
    }
   ],
   "source": [
    "np.vstack([coords_2]*2)"
   ]
  },
  {
   "cell_type": "code",
   "execution_count": 92,
   "id": "c8946f91-72c6-42e3-ae73-44474031b54c",
   "metadata": {},
   "outputs": [
    {
     "data": {
      "text/plain": [
       "27"
      ]
     },
     "execution_count": 92,
     "metadata": {},
     "output_type": "execute_result"
    }
   ],
   "source": [
    "len(np.tile(coords_2, (3,1)))"
   ]
  },
  {
   "cell_type": "code",
   "execution_count": 93,
   "id": "5f98db63-bacc-47da-b9e2-43a7d63a28ca",
   "metadata": {},
   "outputs": [],
   "source": [
    "coords_3 = possible_coords_np(coords_2, True)"
   ]
  },
  {
   "cell_type": "code",
   "execution_count": 94,
   "id": "38720826-1597-456f-86dc-03ac4597223b",
   "metadata": {},
   "outputs": [
    {
     "name": "stdout",
     "output_type": "stream",
     "text": [
      "239 µs ± 24 µs per loop (mean ± std. dev. of 7 runs, 1000 loops each)\n"
     ]
    },
    {
     "ename": "KeyboardInterrupt",
     "evalue": "",
     "output_type": "error",
     "traceback": [
      "\u001b[1;31m---------------------------------------------------------------------------\u001b[0m",
      "\u001b[1;31mKeyboardInterrupt\u001b[0m                         Traceback (most recent call last)",
      "\u001b[1;32m<ipython-input-94-8d4fcf11094f>\u001b[0m in \u001b[0;36m<module>\u001b[1;34m\u001b[0m\n\u001b[0;32m      1\u001b[0m \u001b[0mget_ipython\u001b[0m\u001b[1;33m(\u001b[0m\u001b[1;33m)\u001b[0m\u001b[1;33m.\u001b[0m\u001b[0mrun_line_magic\u001b[0m\u001b[1;33m(\u001b[0m\u001b[1;34m'timeit'\u001b[0m\u001b[1;33m,\u001b[0m \u001b[1;34m'possible_coords_np(coords_3, False)'\u001b[0m\u001b[1;33m)\u001b[0m\u001b[1;33m\u001b[0m\u001b[1;33m\u001b[0m\u001b[0m\n\u001b[1;32m----> 2\u001b[1;33m \u001b[0mget_ipython\u001b[0m\u001b[1;33m(\u001b[0m\u001b[1;33m)\u001b[0m\u001b[1;33m.\u001b[0m\u001b[0mrun_line_magic\u001b[0m\u001b[1;33m(\u001b[0m\u001b[1;34m'timeit'\u001b[0m\u001b[1;33m,\u001b[0m \u001b[1;34m'possible_coords_np_zeros_odd(coords_3)'\u001b[0m\u001b[1;33m)\u001b[0m\u001b[1;33m\u001b[0m\u001b[1;33m\u001b[0m\u001b[0m\n\u001b[0m\u001b[0;32m      3\u001b[0m \u001b[0mget_ipython\u001b[0m\u001b[1;33m(\u001b[0m\u001b[1;33m)\u001b[0m\u001b[1;33m.\u001b[0m\u001b[0mrun_line_magic\u001b[0m\u001b[1;33m(\u001b[0m\u001b[1;34m'timeit'\u001b[0m\u001b[1;33m,\u001b[0m \u001b[1;34m'possible_coords_np_tiles_odd(coords_3)'\u001b[0m\u001b[1;33m)\u001b[0m\u001b[1;33m\u001b[0m\u001b[1;33m\u001b[0m\u001b[0m\n",
      "\u001b[1;32m~\\anaconda3\\lib\\site-packages\\IPython\\core\\interactiveshell.py\u001b[0m in \u001b[0;36mrun_line_magic\u001b[1;34m(self, magic_name, line, _stack_depth)\u001b[0m\n\u001b[0;32m   2342\u001b[0m                 \u001b[0mkwargs\u001b[0m\u001b[1;33m[\u001b[0m\u001b[1;34m'local_ns'\u001b[0m\u001b[1;33m]\u001b[0m \u001b[1;33m=\u001b[0m \u001b[0mself\u001b[0m\u001b[1;33m.\u001b[0m\u001b[0mget_local_scope\u001b[0m\u001b[1;33m(\u001b[0m\u001b[0mstack_depth\u001b[0m\u001b[1;33m)\u001b[0m\u001b[1;33m\u001b[0m\u001b[1;33m\u001b[0m\u001b[0m\n\u001b[0;32m   2343\u001b[0m             \u001b[1;32mwith\u001b[0m \u001b[0mself\u001b[0m\u001b[1;33m.\u001b[0m\u001b[0mbuiltin_trap\u001b[0m\u001b[1;33m:\u001b[0m\u001b[1;33m\u001b[0m\u001b[1;33m\u001b[0m\u001b[0m\n\u001b[1;32m-> 2344\u001b[1;33m                 \u001b[0mresult\u001b[0m \u001b[1;33m=\u001b[0m \u001b[0mfn\u001b[0m\u001b[1;33m(\u001b[0m\u001b[1;33m*\u001b[0m\u001b[0margs\u001b[0m\u001b[1;33m,\u001b[0m \u001b[1;33m**\u001b[0m\u001b[0mkwargs\u001b[0m\u001b[1;33m)\u001b[0m\u001b[1;33m\u001b[0m\u001b[1;33m\u001b[0m\u001b[0m\n\u001b[0m\u001b[0;32m   2345\u001b[0m             \u001b[1;32mreturn\u001b[0m \u001b[0mresult\u001b[0m\u001b[1;33m\u001b[0m\u001b[1;33m\u001b[0m\u001b[0m\n\u001b[0;32m   2346\u001b[0m \u001b[1;33m\u001b[0m\u001b[0m\n",
      "\u001b[1;32m~\\anaconda3\\lib\\site-packages\\decorator.py\u001b[0m in \u001b[0;36mfun\u001b[1;34m(*args, **kw)\u001b[0m\n\u001b[0;32m    229\u001b[0m             \u001b[1;32mif\u001b[0m \u001b[1;32mnot\u001b[0m \u001b[0mkwsyntax\u001b[0m\u001b[1;33m:\u001b[0m\u001b[1;33m\u001b[0m\u001b[1;33m\u001b[0m\u001b[0m\n\u001b[0;32m    230\u001b[0m                 \u001b[0margs\u001b[0m\u001b[1;33m,\u001b[0m \u001b[0mkw\u001b[0m \u001b[1;33m=\u001b[0m \u001b[0mfix\u001b[0m\u001b[1;33m(\u001b[0m\u001b[0margs\u001b[0m\u001b[1;33m,\u001b[0m \u001b[0mkw\u001b[0m\u001b[1;33m,\u001b[0m \u001b[0msig\u001b[0m\u001b[1;33m)\u001b[0m\u001b[1;33m\u001b[0m\u001b[1;33m\u001b[0m\u001b[0m\n\u001b[1;32m--> 231\u001b[1;33m             \u001b[1;32mreturn\u001b[0m \u001b[0mcaller\u001b[0m\u001b[1;33m(\u001b[0m\u001b[0mfunc\u001b[0m\u001b[1;33m,\u001b[0m \u001b[1;33m*\u001b[0m\u001b[1;33m(\u001b[0m\u001b[0mextras\u001b[0m \u001b[1;33m+\u001b[0m \u001b[0margs\u001b[0m\u001b[1;33m)\u001b[0m\u001b[1;33m,\u001b[0m \u001b[1;33m**\u001b[0m\u001b[0mkw\u001b[0m\u001b[1;33m)\u001b[0m\u001b[1;33m\u001b[0m\u001b[1;33m\u001b[0m\u001b[0m\n\u001b[0m\u001b[0;32m    232\u001b[0m     \u001b[0mfun\u001b[0m\u001b[1;33m.\u001b[0m\u001b[0m__name__\u001b[0m \u001b[1;33m=\u001b[0m \u001b[0mfunc\u001b[0m\u001b[1;33m.\u001b[0m\u001b[0m__name__\u001b[0m\u001b[1;33m\u001b[0m\u001b[1;33m\u001b[0m\u001b[0m\n\u001b[0;32m    233\u001b[0m     \u001b[0mfun\u001b[0m\u001b[1;33m.\u001b[0m\u001b[0m__doc__\u001b[0m \u001b[1;33m=\u001b[0m \u001b[0mfunc\u001b[0m\u001b[1;33m.\u001b[0m\u001b[0m__doc__\u001b[0m\u001b[1;33m\u001b[0m\u001b[1;33m\u001b[0m\u001b[0m\n",
      "\u001b[1;32m~\\anaconda3\\lib\\site-packages\\IPython\\core\\magic.py\u001b[0m in \u001b[0;36m<lambda>\u001b[1;34m(f, *a, **k)\u001b[0m\n\u001b[0;32m    185\u001b[0m     \u001b[1;31m# but it's overkill for just that one bit of state.\u001b[0m\u001b[1;33m\u001b[0m\u001b[1;33m\u001b[0m\u001b[1;33m\u001b[0m\u001b[0m\n\u001b[0;32m    186\u001b[0m     \u001b[1;32mdef\u001b[0m \u001b[0mmagic_deco\u001b[0m\u001b[1;33m(\u001b[0m\u001b[0marg\u001b[0m\u001b[1;33m)\u001b[0m\u001b[1;33m:\u001b[0m\u001b[1;33m\u001b[0m\u001b[1;33m\u001b[0m\u001b[0m\n\u001b[1;32m--> 187\u001b[1;33m         \u001b[0mcall\u001b[0m \u001b[1;33m=\u001b[0m \u001b[1;32mlambda\u001b[0m \u001b[0mf\u001b[0m\u001b[1;33m,\u001b[0m \u001b[1;33m*\u001b[0m\u001b[0ma\u001b[0m\u001b[1;33m,\u001b[0m \u001b[1;33m**\u001b[0m\u001b[0mk\u001b[0m\u001b[1;33m:\u001b[0m \u001b[0mf\u001b[0m\u001b[1;33m(\u001b[0m\u001b[1;33m*\u001b[0m\u001b[0ma\u001b[0m\u001b[1;33m,\u001b[0m \u001b[1;33m**\u001b[0m\u001b[0mk\u001b[0m\u001b[1;33m)\u001b[0m\u001b[1;33m\u001b[0m\u001b[1;33m\u001b[0m\u001b[0m\n\u001b[0m\u001b[0;32m    188\u001b[0m \u001b[1;33m\u001b[0m\u001b[0m\n\u001b[0;32m    189\u001b[0m         \u001b[1;32mif\u001b[0m \u001b[0mcallable\u001b[0m\u001b[1;33m(\u001b[0m\u001b[0marg\u001b[0m\u001b[1;33m)\u001b[0m\u001b[1;33m:\u001b[0m\u001b[1;33m\u001b[0m\u001b[1;33m\u001b[0m\u001b[0m\n",
      "\u001b[1;32m~\\anaconda3\\lib\\site-packages\\IPython\\core\\magics\\execution.py\u001b[0m in \u001b[0;36mtimeit\u001b[1;34m(self, line, cell, local_ns)\u001b[0m\n\u001b[0;32m   1171\u001b[0m                     \u001b[1;32mbreak\u001b[0m\u001b[1;33m\u001b[0m\u001b[1;33m\u001b[0m\u001b[0m\n\u001b[0;32m   1172\u001b[0m \u001b[1;33m\u001b[0m\u001b[0m\n\u001b[1;32m-> 1173\u001b[1;33m         \u001b[0mall_runs\u001b[0m \u001b[1;33m=\u001b[0m \u001b[0mtimer\u001b[0m\u001b[1;33m.\u001b[0m\u001b[0mrepeat\u001b[0m\u001b[1;33m(\u001b[0m\u001b[0mrepeat\u001b[0m\u001b[1;33m,\u001b[0m \u001b[0mnumber\u001b[0m\u001b[1;33m)\u001b[0m\u001b[1;33m\u001b[0m\u001b[1;33m\u001b[0m\u001b[0m\n\u001b[0m\u001b[0;32m   1174\u001b[0m         \u001b[0mbest\u001b[0m \u001b[1;33m=\u001b[0m \u001b[0mmin\u001b[0m\u001b[1;33m(\u001b[0m\u001b[0mall_runs\u001b[0m\u001b[1;33m)\u001b[0m \u001b[1;33m/\u001b[0m \u001b[0mnumber\u001b[0m\u001b[1;33m\u001b[0m\u001b[1;33m\u001b[0m\u001b[0m\n\u001b[0;32m   1175\u001b[0m         \u001b[0mworst\u001b[0m \u001b[1;33m=\u001b[0m \u001b[0mmax\u001b[0m\u001b[1;33m(\u001b[0m\u001b[0mall_runs\u001b[0m\u001b[1;33m)\u001b[0m \u001b[1;33m/\u001b[0m \u001b[0mnumber\u001b[0m\u001b[1;33m\u001b[0m\u001b[1;33m\u001b[0m\u001b[0m\n",
      "\u001b[1;32m~\\anaconda3\\lib\\timeit.py\u001b[0m in \u001b[0;36mrepeat\u001b[1;34m(self, repeat, number)\u001b[0m\n\u001b[0;32m    203\u001b[0m         \u001b[0mr\u001b[0m \u001b[1;33m=\u001b[0m \u001b[1;33m[\u001b[0m\u001b[1;33m]\u001b[0m\u001b[1;33m\u001b[0m\u001b[1;33m\u001b[0m\u001b[0m\n\u001b[0;32m    204\u001b[0m         \u001b[1;32mfor\u001b[0m \u001b[0mi\u001b[0m \u001b[1;32min\u001b[0m \u001b[0mrange\u001b[0m\u001b[1;33m(\u001b[0m\u001b[0mrepeat\u001b[0m\u001b[1;33m)\u001b[0m\u001b[1;33m:\u001b[0m\u001b[1;33m\u001b[0m\u001b[1;33m\u001b[0m\u001b[0m\n\u001b[1;32m--> 205\u001b[1;33m             \u001b[0mt\u001b[0m \u001b[1;33m=\u001b[0m \u001b[0mself\u001b[0m\u001b[1;33m.\u001b[0m\u001b[0mtimeit\u001b[0m\u001b[1;33m(\u001b[0m\u001b[0mnumber\u001b[0m\u001b[1;33m)\u001b[0m\u001b[1;33m\u001b[0m\u001b[1;33m\u001b[0m\u001b[0m\n\u001b[0m\u001b[0;32m    206\u001b[0m             \u001b[0mr\u001b[0m\u001b[1;33m.\u001b[0m\u001b[0mappend\u001b[0m\u001b[1;33m(\u001b[0m\u001b[0mt\u001b[0m\u001b[1;33m)\u001b[0m\u001b[1;33m\u001b[0m\u001b[1;33m\u001b[0m\u001b[0m\n\u001b[0;32m    207\u001b[0m         \u001b[1;32mreturn\u001b[0m \u001b[0mr\u001b[0m\u001b[1;33m\u001b[0m\u001b[1;33m\u001b[0m\u001b[0m\n",
      "\u001b[1;32m~\\anaconda3\\lib\\site-packages\\IPython\\core\\magics\\execution.py\u001b[0m in \u001b[0;36mtimeit\u001b[1;34m(self, number)\u001b[0m\n\u001b[0;32m    167\u001b[0m         \u001b[0mgc\u001b[0m\u001b[1;33m.\u001b[0m\u001b[0mdisable\u001b[0m\u001b[1;33m(\u001b[0m\u001b[1;33m)\u001b[0m\u001b[1;33m\u001b[0m\u001b[1;33m\u001b[0m\u001b[0m\n\u001b[0;32m    168\u001b[0m         \u001b[1;32mtry\u001b[0m\u001b[1;33m:\u001b[0m\u001b[1;33m\u001b[0m\u001b[1;33m\u001b[0m\u001b[0m\n\u001b[1;32m--> 169\u001b[1;33m             \u001b[0mtiming\u001b[0m \u001b[1;33m=\u001b[0m \u001b[0mself\u001b[0m\u001b[1;33m.\u001b[0m\u001b[0minner\u001b[0m\u001b[1;33m(\u001b[0m\u001b[0mit\u001b[0m\u001b[1;33m,\u001b[0m \u001b[0mself\u001b[0m\u001b[1;33m.\u001b[0m\u001b[0mtimer\u001b[0m\u001b[1;33m)\u001b[0m\u001b[1;33m\u001b[0m\u001b[1;33m\u001b[0m\u001b[0m\n\u001b[0m\u001b[0;32m    170\u001b[0m         \u001b[1;32mfinally\u001b[0m\u001b[1;33m:\u001b[0m\u001b[1;33m\u001b[0m\u001b[1;33m\u001b[0m\u001b[0m\n\u001b[0;32m    171\u001b[0m             \u001b[1;32mif\u001b[0m \u001b[0mgcold\u001b[0m\u001b[1;33m:\u001b[0m\u001b[1;33m\u001b[0m\u001b[1;33m\u001b[0m\u001b[0m\n",
      "\u001b[1;32m<magic-timeit>\u001b[0m in \u001b[0;36minner\u001b[1;34m(_it, _timer)\u001b[0m\n",
      "\u001b[1;32m<ipython-input-89-ff2e96316cdd>\u001b[0m in \u001b[0;36mpossible_coords_np_zeros_odd\u001b[1;34m(coords)\u001b[0m\n\u001b[0;32m     94\u001b[0m         \u001b[0mposs\u001b[0m\u001b[1;33m[\u001b[0m\u001b[0mi\u001b[0m\u001b[1;33m]\u001b[0m \u001b[1;33m=\u001b[0m \u001b[0mcoords\u001b[0m\u001b[1;33m[\u001b[0m\u001b[0mi\u001b[0m\u001b[1;33m]\u001b[0m \u001b[1;33m+\u001b[0m \u001b[0mnp\u001b[0m\u001b[1;33m.\u001b[0m\u001b[0marray\u001b[0m\u001b[1;33m(\u001b[0m\u001b[1;33m[\u001b[0m\u001b[1;33m-\u001b[0m\u001b[1;36m1\u001b[0m\u001b[1;33m,\u001b[0m\u001b[1;36m0\u001b[0m\u001b[1;33m,\u001b[0m\u001b[1;33m+\u001b[0m\u001b[1;36m1\u001b[0m\u001b[1;33m]\u001b[0m\u001b[1;33m)\u001b[0m\u001b[1;33m\u001b[0m\u001b[1;33m\u001b[0m\u001b[0m\n\u001b[0;32m     95\u001b[0m         \u001b[0mposs\u001b[0m\u001b[1;33m[\u001b[0m\u001b[0mi\u001b[0m\u001b[1;33m+\u001b[0m\u001b[0mleng\u001b[0m\u001b[1;33m]\u001b[0m \u001b[1;33m=\u001b[0m \u001b[0mcoords\u001b[0m\u001b[1;33m[\u001b[0m\u001b[0mi\u001b[0m\u001b[1;33m]\u001b[0m \u001b[1;33m+\u001b[0m \u001b[0mnp\u001b[0m\u001b[1;33m.\u001b[0m\u001b[0marray\u001b[0m\u001b[1;33m(\u001b[0m\u001b[1;33m[\u001b[0m\u001b[1;33m+\u001b[0m\u001b[1;36m1\u001b[0m\u001b[1;33m,\u001b[0m\u001b[1;33m-\u001b[0m\u001b[1;36m1\u001b[0m\u001b[1;33m,\u001b[0m\u001b[1;36m0\u001b[0m\u001b[1;33m]\u001b[0m\u001b[1;33m)\u001b[0m\u001b[1;33m\u001b[0m\u001b[1;33m\u001b[0m\u001b[0m\n\u001b[1;32m---> 96\u001b[1;33m         \u001b[0mposs\u001b[0m\u001b[1;33m[\u001b[0m\u001b[0mi\u001b[0m\u001b[1;33m+\u001b[0m\u001b[1;36m2\u001b[0m\u001b[1;33m*\u001b[0m\u001b[0mleng\u001b[0m\u001b[1;33m]\u001b[0m \u001b[1;33m=\u001b[0m \u001b[0mcoords\u001b[0m\u001b[1;33m[\u001b[0m\u001b[0mi\u001b[0m\u001b[1;33m]\u001b[0m \u001b[1;33m+\u001b[0m \u001b[0mnp\u001b[0m\u001b[1;33m.\u001b[0m\u001b[0marray\u001b[0m\u001b[1;33m(\u001b[0m\u001b[1;33m[\u001b[0m\u001b[1;36m0\u001b[0m\u001b[1;33m,\u001b[0m\u001b[1;33m+\u001b[0m\u001b[1;36m1\u001b[0m\u001b[1;33m,\u001b[0m\u001b[1;33m-\u001b[0m\u001b[1;36m1\u001b[0m\u001b[1;33m]\u001b[0m\u001b[1;33m)\u001b[0m\u001b[1;33m\u001b[0m\u001b[1;33m\u001b[0m\u001b[0m\n\u001b[0m\u001b[0;32m     97\u001b[0m     \u001b[1;32mreturn\u001b[0m \u001b[0mposs\u001b[0m\u001b[1;33m\u001b[0m\u001b[1;33m\u001b[0m\u001b[0m\n\u001b[0;32m     98\u001b[0m \u001b[1;33m\u001b[0m\u001b[0m\n",
      "\u001b[1;31mKeyboardInterrupt\u001b[0m: "
     ]
    }
   ],
   "source": [
    "%timeit possible_coords_np(coords_3, False)\n",
    "%timeit possible_coords_np_zeros_odd(coords_3)\n",
    "%timeit possible_coords_np_tiles_odd(coords_3)"
   ]
  },
  {
   "cell_type": "code",
   "execution_count": null,
   "id": "d1c08501-709d-438c-8439-70e2414721af",
   "metadata": {},
   "outputs": [],
   "source": []
  },
  {
   "cell_type": "code",
   "execution_count": null,
   "id": "c13f97d6-9aba-4877-ab77-5103d18bba28",
   "metadata": {},
   "outputs": [],
   "source": [
    "remove_homes_np_2(arr_1)"
   ]
  },
  {
   "cell_type": "code",
   "execution_count": null,
   "id": "95ae22fc-1b67-44e1-811b-4856c5c57ae8",
   "metadata": {},
   "outputs": [],
   "source": [
    "count_homes_np(coords_2)"
   ]
  },
  {
   "cell_type": "code",
   "execution_count": null,
   "id": "f9e715fb-a335-4e0d-b6bd-de6b6428186b",
   "metadata": {},
   "outputs": [],
   "source": [
    "possible_coords_np(home, True)"
   ]
  },
  {
   "cell_type": "code",
   "execution_count": 183,
   "id": "34a90acc-bb99-4e45-9ce7-df03b4534ace",
   "metadata": {},
   "outputs": [
    {
     "data": {
      "text/plain": [
       "array([[ 0, -1,  1],\n",
       "       [ 1,  0, -1],\n",
       "       [-1,  1,  0]])"
      ]
     },
     "execution_count": 183,
     "metadata": {},
     "output_type": "execute_result"
    }
   ],
   "source": [
    "possible_coords_np(home, True)"
   ]
  },
  {
   "cell_type": "code",
   "execution_count": 194,
   "id": "d2023f47-0fab-4396-906e-e1a3be11e0a2",
   "metadata": {},
   "outputs": [
    {
     "name": "stdout",
     "output_type": "stream",
     "text": [
      "[[-1 -1  2]\n",
      " [ 1 -2  1]\n",
      " [ 0  0  0]]\n",
      "[[ 0  0  0]\n",
      " [ 2 -1 -1]\n",
      " [ 1  1 -2]]\n",
      "[[-2  1  1]\n",
      " [ 0  0  0]\n",
      " [-1  2 -1]]\n"
     ]
    },
    {
     "data": {
      "text/plain": [
       "array([[-1., -1.,  2.],\n",
       "       [ 1., -2.,  1.],\n",
       "       [ 0.,  0.,  0.],\n",
       "       [ 0.,  0.,  0.],\n",
       "       [ 2., -1., -1.],\n",
       "       [ 1.,  1., -2.],\n",
       "       [-2.,  1.,  1.],\n",
       "       [ 0.,  0.,  0.],\n",
       "       [-1.,  2., -1.]])"
      ]
     },
     "execution_count": 194,
     "metadata": {},
     "output_type": "execute_result"
    }
   ],
   "source": [
    "arr_1 = np.array([[ 0, -1,  1],\n",
    "       [ 1,  0, -1],\n",
    "       [-1,  1,  0]])\n",
    "possible_coords_np(arr_1, False)"
   ]
  },
  {
   "cell_type": "code",
   "execution_count": 191,
   "id": "23556396-0841-4115-883e-cf510fcea7b8",
   "metadata": {},
   "outputs": [
    {
     "data": {
      "text/plain": [
       "(6, 3)"
      ]
     },
     "execution_count": 191,
     "metadata": {},
     "output_type": "execute_result"
    }
   ],
   "source": [
    "np.shape(np.concatenate([arr_1, arr_1]))"
   ]
  },
  {
   "cell_type": "code",
   "execution_count": 181,
   "id": "556e3432-911e-4385-83da-bba6964bc73d",
   "metadata": {},
   "outputs": [
    {
     "ename": "ValueError",
     "evalue": "operands could not be broadcast together with shapes (0,) (3,3) ",
     "output_type": "error",
     "traceback": [
      "\u001b[1;31m---------------------------------------------------------------------------\u001b[0m",
      "\u001b[1;31mValueError\u001b[0m                                Traceback (most recent call last)",
      "\u001b[1;32m<ipython-input-181-84179087a880>\u001b[0m in \u001b[0;36m<module>\u001b[1;34m\u001b[0m\n\u001b[1;32m----> 1\u001b[1;33m \u001b[0marr\u001b[0m \u001b[1;33m+\u001b[0m \u001b[0mnp\u001b[0m\u001b[1;33m.\u001b[0m\u001b[0marray\u001b[0m\u001b[1;33m(\u001b[0m\u001b[1;33m[\u001b[0m\u001b[1;33m[\u001b[0m\u001b[1;36m4\u001b[0m\u001b[1;33m,\u001b[0m \u001b[1;36m5\u001b[0m\u001b[1;33m,\u001b[0m \u001b[1;36m6\u001b[0m\u001b[1;33m]\u001b[0m\u001b[1;33m,\u001b[0m \u001b[1;33m[\u001b[0m\u001b[1;36m6\u001b[0m\u001b[1;33m,\u001b[0m \u001b[1;36m4\u001b[0m\u001b[1;33m,\u001b[0m \u001b[1;36m5\u001b[0m\u001b[1;33m]\u001b[0m\u001b[1;33m,\u001b[0m \u001b[1;33m[\u001b[0m\u001b[1;36m5\u001b[0m\u001b[1;33m,\u001b[0m \u001b[1;36m6\u001b[0m\u001b[1;33m,\u001b[0m \u001b[1;36m4\u001b[0m\u001b[1;33m]\u001b[0m\u001b[1;33m]\u001b[0m\u001b[1;33m)\u001b[0m\u001b[1;33m\u001b[0m\u001b[1;33m\u001b[0m\u001b[0m\n\u001b[0m",
      "\u001b[1;31mValueError\u001b[0m: operands could not be broadcast together with shapes (0,) (3,3) "
     ]
    }
   ],
   "source": [
    "arr + np.array([[4, 5, 6], [6, 4, 5], [5, 6, 4]])"
   ]
  },
  {
   "cell_type": "code",
   "execution_count": 103,
   "id": "b1700d61-a43b-4d91-a5b5-4ce74aa73261",
   "metadata": {},
   "outputs": [
    {
     "data": {
      "text/plain": [
       "(3, 3)"
      ]
     },
     "execution_count": 103,
     "metadata": {},
     "output_type": "execute_result"
    }
   ],
   "source": [
    "np.shape([[-1, -1,  2],\n",
    " [ 1, -2,  1],\n",
    " [ 0,  0,  0]])"
   ]
  },
  {
   "cell_type": "code",
   "execution_count": 159,
   "id": "45ddc063-06ed-47ed-b3ea-5b72daef8087",
   "metadata": {},
   "outputs": [
    {
     "data": {
      "text/plain": [
       "True"
      ]
     },
     "execution_count": 159,
     "metadata": {},
     "output_type": "execute_result"
    }
   ],
   "source": [
    "np.shape([-1, -1,  2]) == (3,)"
   ]
  },
  {
   "cell_type": "code",
   "execution_count": 17,
   "id": "8a6d3f9e-ad6f-4b68-af34-9224eaa49807",
   "metadata": {},
   "outputs": [
    {
     "name": "stdout",
     "output_type": "stream",
     "text": [
      "step destinations probability\n",
      "1 0 / 3 0.0\n",
      "2 3 / 9 0.3333333333333333\n",
      "3 0 / 27 0.0\n",
      "4 6 / 81 0.07407407407407407\n",
      "5 0 / 243 0.0\n",
      "6 30 / 729 0.0411522633744856\n",
      "7 0 / 2187 0.0\n",
      "8 180 / 6561 0.027434842249657063\n",
      "9 0 / 19683 0.0\n",
      "10 1188 / 59049 0.020118884316415182\n",
      "11 0 / 177147 0.0\n",
      "12 8322 / 531441 0.01565931119352854\n"
     ]
    },
    {
     "ename": "KeyboardInterrupt",
     "evalue": "",
     "output_type": "error",
     "traceback": [
      "\u001b[1;31m---------------------------------------------------------------------------\u001b[0m",
      "\u001b[1;31mKeyboardInterrupt\u001b[0m                         Traceback (most recent call last)",
      "\u001b[1;32m<ipython-input-17-087f608dd9c0>\u001b[0m in \u001b[0;36m<module>\u001b[1;34m\u001b[0m\n\u001b[1;32m----> 1\u001b[1;33m \u001b[0mnum_paths_home_np\u001b[0m\u001b[1;33m(\u001b[0m\u001b[0mnp\u001b[0m\u001b[1;33m.\u001b[0m\u001b[0marray\u001b[0m\u001b[1;33m(\u001b[0m\u001b[1;33m[\u001b[0m\u001b[1;36m0\u001b[0m\u001b[1;33m,\u001b[0m\u001b[1;36m0\u001b[0m\u001b[1;33m,\u001b[0m\u001b[1;36m0\u001b[0m\u001b[1;33m]\u001b[0m\u001b[1;33m)\u001b[0m\u001b[1;33m,\u001b[0m \u001b[1;36m15\u001b[0m\u001b[1;33m)\u001b[0m\u001b[1;33m\u001b[0m\u001b[1;33m\u001b[0m\u001b[0m\n\u001b[0m",
      "\u001b[1;32m<ipython-input-16-f89fa9fcd5f8>\u001b[0m in \u001b[0;36mnum_paths_home_np\u001b[1;34m(home, steps)\u001b[0m\n\u001b[0;32m     41\u001b[0m     \u001b[0mprint\u001b[0m\u001b[1;33m(\u001b[0m\u001b[1;34m'step'\u001b[0m\u001b[1;33m,\u001b[0m \u001b[1;34m'destinations'\u001b[0m\u001b[1;33m,\u001b[0m \u001b[1;34m'probability'\u001b[0m\u001b[1;33m)\u001b[0m\u001b[1;33m\u001b[0m\u001b[1;33m\u001b[0m\u001b[0m\n\u001b[0;32m     42\u001b[0m     \u001b[1;32mfor\u001b[0m \u001b[0mi\u001b[0m \u001b[1;32min\u001b[0m \u001b[0mrange\u001b[0m\u001b[1;33m(\u001b[0m\u001b[1;36m1\u001b[0m\u001b[1;33m,\u001b[0m \u001b[0msteps\u001b[0m\u001b[1;33m+\u001b[0m\u001b[1;36m1\u001b[0m\u001b[1;33m)\u001b[0m\u001b[1;33m:\u001b[0m\u001b[1;33m\u001b[0m\u001b[1;33m\u001b[0m\u001b[0m\n\u001b[1;32m---> 43\u001b[1;33m         \u001b[0mpaths\u001b[0m \u001b[1;33m=\u001b[0m \u001b[0mpossible_coords_np\u001b[0m\u001b[1;33m(\u001b[0m\u001b[0mpaths\u001b[0m\u001b[1;33m,\u001b[0m \u001b[0meven\u001b[0m\u001b[1;33m)\u001b[0m\u001b[1;33m\u001b[0m\u001b[1;33m\u001b[0m\u001b[0m\n\u001b[0m\u001b[0;32m     44\u001b[0m         \u001b[0mprint\u001b[0m\u001b[1;33m(\u001b[0m\u001b[0mi\u001b[0m\u001b[1;33m,\u001b[0m \u001b[1;34mf'{count_homes_np(paths)} / {3**i}'\u001b[0m\u001b[1;33m,\u001b[0m \u001b[0mcount_homes_np\u001b[0m\u001b[1;33m(\u001b[0m\u001b[0mpaths\u001b[0m\u001b[1;33m)\u001b[0m \u001b[1;33m/\u001b[0m \u001b[1;36m3\u001b[0m\u001b[1;33m**\u001b[0m\u001b[0mi\u001b[0m\u001b[1;33m)\u001b[0m\u001b[1;33m\u001b[0m\u001b[1;33m\u001b[0m\u001b[0m\n\u001b[0;32m     45\u001b[0m         \u001b[1;31m#print('paths, length:', len(paths))\u001b[0m\u001b[1;33m\u001b[0m\u001b[1;33m\u001b[0m\u001b[1;33m\u001b[0m\u001b[0m\n",
      "\u001b[1;32m<ipython-input-16-f89fa9fcd5f8>\u001b[0m in \u001b[0;36mpossible_coords_np\u001b[1;34m(coords, even)\u001b[0m\n\u001b[0;32m     13\u001b[0m     \u001b[1;32mfor\u001b[0m \u001b[0mcoord\u001b[0m \u001b[1;32min\u001b[0m \u001b[0mcoords\u001b[0m\u001b[1;33m:\u001b[0m\u001b[1;33m\u001b[0m\u001b[1;33m\u001b[0m\u001b[0m\n\u001b[0;32m     14\u001b[0m         \u001b[1;31m#print(next_coords_np(coord, even))\u001b[0m\u001b[1;33m\u001b[0m\u001b[1;33m\u001b[0m\u001b[1;33m\u001b[0m\u001b[0m\n\u001b[1;32m---> 15\u001b[1;33m         \u001b[0mposs\u001b[0m \u001b[1;33m=\u001b[0m \u001b[0mnp\u001b[0m\u001b[1;33m.\u001b[0m\u001b[0mconcatenate\u001b[0m\u001b[1;33m(\u001b[0m\u001b[1;33m(\u001b[0m\u001b[0mposs\u001b[0m\u001b[1;33m,\u001b[0m \u001b[0mnext_coords_np\u001b[0m\u001b[1;33m(\u001b[0m\u001b[0mcoord\u001b[0m\u001b[1;33m,\u001b[0m \u001b[0meven\u001b[0m\u001b[1;33m)\u001b[0m\u001b[1;33m)\u001b[0m\u001b[1;33m)\u001b[0m\u001b[1;33m\u001b[0m\u001b[1;33m\u001b[0m\u001b[0m\n\u001b[0m\u001b[0;32m     16\u001b[0m     \u001b[1;32mreturn\u001b[0m \u001b[0mposs\u001b[0m\u001b[1;33m[\u001b[0m\u001b[1;36m1\u001b[0m\u001b[1;33m:\u001b[0m\u001b[1;33m]\u001b[0m\u001b[1;33m\u001b[0m\u001b[1;33m\u001b[0m\u001b[0m\n\u001b[0;32m     17\u001b[0m \u001b[1;33m\u001b[0m\u001b[0m\n",
      "\u001b[1;32m<__array_function__ internals>\u001b[0m in \u001b[0;36mconcatenate\u001b[1;34m(*args, **kwargs)\u001b[0m\n",
      "\u001b[1;31mKeyboardInterrupt\u001b[0m: "
     ]
    }
   ],
   "source": [
    "num_paths_home_np(np.array([0,0,0]), 15)"
   ]
  },
  {
   "cell_type": "code",
   "execution_count": 250,
   "id": "153e2bcf-caf9-4019-955f-c219971a9c4d",
   "metadata": {},
   "outputs": [],
   "source": [
    "arr_3 = np.array([[-1., -2.,  3.,],\n",
    " [ 0., -1.,  1.],\n",
    " [-2., 0.,  2.],\n",
    " [ 1., -3.,  2.],\n",
    " [ 2., -2.,  0.],\n",
    " [ 0., -1.,  1.],\n",
    " [ 2., -2.,  0.],\n",
    " [ 3., -1., -2.],\n",
    " [ 1.,  0., -1.],\n",
    " [ 1.,  0., -1.],\n",
    " [ 2.,  1., -3.],\n",
    " [ 0.,  2., -2.],\n",
    " [-2.,  0.,  2.],\n",
    " [-1.,  1.,  0.],\n",
    " [-3.,  2.,  1.],\n",
    " [-1., 1.,  0.],\n",
    " [ 0.,  2., -2.],\n",
    " [-2.,  3., -1.]])"
   ]
  },
  {
   "cell_type": "code",
   "execution_count": 252,
   "id": "f9fc26fd-11d0-4bc6-a41c-465d4cc12527",
   "metadata": {},
   "outputs": [
    {
     "data": {
      "text/plain": [
       "18"
      ]
     },
     "execution_count": 252,
     "metadata": {},
     "output_type": "execute_result"
    }
   ],
   "source": [
    "len(arr_3)"
   ]
  },
  {
   "cell_type": "code",
   "execution_count": 265,
   "id": "a4fe189d-e0fa-4e6d-9868-da2d40ecfe5a",
   "metadata": {},
   "outputs": [
    {
     "data": {
      "text/plain": [
       "array([[-1., -2.,  3.],\n",
       "       [ 0., -1.,  1.],\n",
       "       [-2.,  0.,  2.],\n",
       "       [ 1., -3.,  2.],\n",
       "       [ 2., -2.,  0.],\n",
       "       [ 0., -1.,  1.],\n",
       "       [ 2., -2.,  0.],\n",
       "       [ 3., -1., -2.],\n",
       "       [ 1.,  0., -1.],\n",
       "       [ 1.,  0., -1.],\n",
       "       [ 2.,  1., -3.],\n",
       "       [ 0.,  2., -2.],\n",
       "       [-2.,  0.,  2.],\n",
       "       [-1.,  1.,  0.],\n",
       "       [-3.,  2.,  1.],\n",
       "       [-1.,  1.,  0.],\n",
       "       [ 0.,  2., -2.],\n",
       "       [-2.,  3., -1.]])"
      ]
     },
     "execution_count": 265,
     "metadata": {},
     "output_type": "execute_result"
    }
   ],
   "source": [
    "remove_homes_np_2(arr_3)"
   ]
  },
  {
   "cell_type": "code",
   "execution_count": 95,
   "id": "7d24ef70-bc86-45c7-81cd-865b7287f8b3",
   "metadata": {},
   "outputs": [
    {
     "name": "stdout",
     "output_type": "stream",
     "text": [
      "step destinations probability\n",
      "1 0 / 3 0.0\n",
      "2 9 / 9 1.0\n",
      "3 0 / 27 0.0\n",
      "4 45 / 81 0.5555555555555556\n",
      "5 0 / 243 0.0\n",
      "6 279 / 729 0.38271604938271603\n",
      "7 0 / 2187 0.0\n",
      "8 1917 / 6561 0.29218106995884774\n",
      "9 0 / 19683 0.0\n",
      "10 13959 / 59049 0.23639689071787837\n",
      "11 0 / 177147 0.0\n",
      "12 105507 / 531441 0.19853003437822825\n",
      "13 0 / 1594323 0.0\n"
     ]
    },
    {
     "ename": "KeyboardInterrupt",
     "evalue": "",
     "output_type": "error",
     "traceback": [
      "\u001b[1;31m---------------------------------------------------------------------------\u001b[0m",
      "\u001b[1;31mKeyboardInterrupt\u001b[0m                         Traceback (most recent call last)",
      "\u001b[1;32m<ipython-input-95-020ad9f7b7be>\u001b[0m in \u001b[0;36m<module>\u001b[1;34m\u001b[0m\n\u001b[1;32m----> 1\u001b[1;33m \u001b[0mnum_paths_home_np_zeros\u001b[0m\u001b[1;33m(\u001b[0m\u001b[0mnp\u001b[0m\u001b[1;33m.\u001b[0m\u001b[0marray\u001b[0m\u001b[1;33m(\u001b[0m\u001b[1;33m[\u001b[0m\u001b[1;36m0\u001b[0m\u001b[1;33m,\u001b[0m\u001b[1;36m0\u001b[0m\u001b[1;33m,\u001b[0m\u001b[1;36m0\u001b[0m\u001b[1;33m]\u001b[0m\u001b[1;33m)\u001b[0m\u001b[1;33m,\u001b[0m \u001b[1;36m15\u001b[0m\u001b[1;33m)\u001b[0m\u001b[1;33m\u001b[0m\u001b[1;33m\u001b[0m\u001b[0m\n\u001b[0m",
      "\u001b[1;32m<ipython-input-89-ff2e96316cdd>\u001b[0m in \u001b[0;36mnum_paths_home_np_zeros\u001b[1;34m(home, steps)\u001b[0m\n\u001b[0;32m    113\u001b[0m     \u001b[0mprint\u001b[0m\u001b[1;33m(\u001b[0m\u001b[1;34m'step'\u001b[0m\u001b[1;33m,\u001b[0m \u001b[1;34m'destinations'\u001b[0m\u001b[1;33m,\u001b[0m \u001b[1;34m'probability'\u001b[0m\u001b[1;33m)\u001b[0m\u001b[1;33m\u001b[0m\u001b[1;33m\u001b[0m\u001b[0m\n\u001b[0;32m    114\u001b[0m     \u001b[1;32mfor\u001b[0m \u001b[0mi\u001b[0m \u001b[1;32min\u001b[0m \u001b[0mrange\u001b[0m\u001b[1;33m(\u001b[0m\u001b[1;36m1\u001b[0m\u001b[1;33m,\u001b[0m \u001b[0msteps\u001b[0m\u001b[1;33m+\u001b[0m\u001b[1;36m1\u001b[0m\u001b[1;33m)\u001b[0m\u001b[1;33m:\u001b[0m\u001b[1;33m\u001b[0m\u001b[1;33m\u001b[0m\u001b[0m\n\u001b[1;32m--> 115\u001b[1;33m         \u001b[1;32mif\u001b[0m \u001b[0mi\u001b[0m\u001b[1;33m%\u001b[0m\u001b[1;36m2\u001b[0m \u001b[1;33m==\u001b[0m \u001b[1;36m0\u001b[0m\u001b[1;33m:\u001b[0m \u001b[0mpaths\u001b[0m \u001b[1;33m=\u001b[0m \u001b[0mpossible_coords_np_zeros_even\u001b[0m\u001b[1;33m(\u001b[0m\u001b[0mpaths\u001b[0m\u001b[1;33m)\u001b[0m\u001b[1;33m\u001b[0m\u001b[1;33m\u001b[0m\u001b[0m\n\u001b[0m\u001b[0;32m    116\u001b[0m         \u001b[1;32melse\u001b[0m\u001b[1;33m:\u001b[0m \u001b[0mpaths\u001b[0m \u001b[1;33m=\u001b[0m \u001b[0mpossible_coords_np_zeros_odd\u001b[0m\u001b[1;33m(\u001b[0m\u001b[0mpaths\u001b[0m\u001b[1;33m)\u001b[0m\u001b[1;33m\u001b[0m\u001b[1;33m\u001b[0m\u001b[0m\n\u001b[0;32m    117\u001b[0m         \u001b[0mprint\u001b[0m\u001b[1;33m(\u001b[0m\u001b[0mi\u001b[0m\u001b[1;33m,\u001b[0m \u001b[1;34mf'{count_homes_np(paths)} / {3**i}'\u001b[0m\u001b[1;33m,\u001b[0m \u001b[0mcount_homes_np\u001b[0m\u001b[1;33m(\u001b[0m\u001b[0mpaths\u001b[0m\u001b[1;33m)\u001b[0m \u001b[1;33m/\u001b[0m \u001b[1;36m3\u001b[0m\u001b[1;33m**\u001b[0m\u001b[0mi\u001b[0m\u001b[1;33m)\u001b[0m\u001b[1;33m\u001b[0m\u001b[1;33m\u001b[0m\u001b[0m\n",
      "\u001b[1;32m<ipython-input-89-ff2e96316cdd>\u001b[0m in \u001b[0;36mpossible_coords_np_zeros_even\u001b[1;34m(coords)\u001b[0m\n\u001b[0;32m     71\u001b[0m     \u001b[1;32mfor\u001b[0m \u001b[0mi\u001b[0m \u001b[1;32min\u001b[0m \u001b[0mrange\u001b[0m\u001b[1;33m(\u001b[0m\u001b[0mleng\u001b[0m\u001b[1;33m)\u001b[0m\u001b[1;33m:\u001b[0m\u001b[1;33m\u001b[0m\u001b[1;33m\u001b[0m\u001b[0m\n\u001b[0;32m     72\u001b[0m         \u001b[0mposs\u001b[0m\u001b[1;33m[\u001b[0m\u001b[0mi\u001b[0m\u001b[1;33m]\u001b[0m \u001b[1;33m=\u001b[0m \u001b[0mcoords\u001b[0m\u001b[1;33m[\u001b[0m\u001b[0mi\u001b[0m\u001b[1;33m]\u001b[0m \u001b[1;33m+\u001b[0m \u001b[0mnp\u001b[0m\u001b[1;33m.\u001b[0m\u001b[0marray\u001b[0m\u001b[1;33m(\u001b[0m\u001b[1;33m[\u001b[0m\u001b[1;36m0\u001b[0m\u001b[1;33m,\u001b[0m\u001b[1;33m-\u001b[0m\u001b[1;36m1\u001b[0m\u001b[1;33m,\u001b[0m\u001b[1;33m+\u001b[0m\u001b[1;36m1\u001b[0m\u001b[1;33m]\u001b[0m\u001b[1;33m)\u001b[0m\u001b[1;33m\u001b[0m\u001b[1;33m\u001b[0m\u001b[0m\n\u001b[1;32m---> 73\u001b[1;33m         \u001b[0mposs\u001b[0m\u001b[1;33m[\u001b[0m\u001b[0mi\u001b[0m\u001b[1;33m+\u001b[0m\u001b[0mleng\u001b[0m\u001b[1;33m]\u001b[0m \u001b[1;33m=\u001b[0m \u001b[0mcoords\u001b[0m\u001b[1;33m[\u001b[0m\u001b[0mi\u001b[0m\u001b[1;33m]\u001b[0m \u001b[1;33m+\u001b[0m \u001b[0mnp\u001b[0m\u001b[1;33m.\u001b[0m\u001b[0marray\u001b[0m\u001b[1;33m(\u001b[0m\u001b[1;33m[\u001b[0m\u001b[1;33m+\u001b[0m\u001b[1;36m1\u001b[0m\u001b[1;33m,\u001b[0m\u001b[1;36m0\u001b[0m\u001b[1;33m,\u001b[0m\u001b[1;33m-\u001b[0m\u001b[1;36m1\u001b[0m\u001b[1;33m]\u001b[0m\u001b[1;33m)\u001b[0m\u001b[1;33m\u001b[0m\u001b[1;33m\u001b[0m\u001b[0m\n\u001b[0m\u001b[0;32m     74\u001b[0m         \u001b[0mposs\u001b[0m\u001b[1;33m[\u001b[0m\u001b[0mi\u001b[0m\u001b[1;33m+\u001b[0m\u001b[1;36m2\u001b[0m\u001b[1;33m*\u001b[0m\u001b[0mleng\u001b[0m\u001b[1;33m]\u001b[0m \u001b[1;33m=\u001b[0m \u001b[0mcoords\u001b[0m\u001b[1;33m[\u001b[0m\u001b[0mi\u001b[0m\u001b[1;33m]\u001b[0m \u001b[1;33m+\u001b[0m \u001b[0mnp\u001b[0m\u001b[1;33m.\u001b[0m\u001b[0marray\u001b[0m\u001b[1;33m(\u001b[0m\u001b[1;33m[\u001b[0m\u001b[1;33m-\u001b[0m\u001b[1;36m1\u001b[0m\u001b[1;33m,\u001b[0m\u001b[1;33m+\u001b[0m\u001b[1;36m1\u001b[0m\u001b[1;33m,\u001b[0m\u001b[1;36m0\u001b[0m\u001b[1;33m]\u001b[0m\u001b[1;33m)\u001b[0m\u001b[1;33m\u001b[0m\u001b[1;33m\u001b[0m\u001b[0m\n\u001b[0;32m     75\u001b[0m     \u001b[1;32mreturn\u001b[0m \u001b[0mposs\u001b[0m\u001b[1;33m\u001b[0m\u001b[1;33m\u001b[0m\u001b[0m\n",
      "\u001b[1;31mKeyboardInterrupt\u001b[0m: "
     ]
    }
   ],
   "source": [
    "num_paths_home_np_zeros(np.array([0,0,0]), 15)"
   ]
  },
  {
   "cell_type": "code",
   "execution_count": 156,
   "id": "d512ed7f-b954-4c3b-bf8f-dbc786dd8464",
   "metadata": {},
   "outputs": [],
   "source": [
    "#Monte carlo attempt\n",
    "home = np.array([0,0,0])\n",
    "moves_even = np.array([[0,-1,+1], [+1,0,-1], [-1,+1,0]])\n",
    "moves_odd = np.array([[-1,0,+1], [+1,-1,0], [0,+1,-1]])\n",
    "\n",
    "def next_step(coord, even):\n",
    "    if even:\n",
    "        return coord + moves_even[np.random.choice(np.array([0,1,2]))]\n",
    "    else: return coord + moves_odd[np.random.choice(np.array([0,1,2]))]\n",
    "\n",
    "def sim():\n",
    "    step = 0\n",
    "    coord = np.array([0,0,0])\n",
    "    even = True\n",
    "    while step < 21:\n",
    "        coord = next_step(coord, even)\n",
    "        even = not even\n",
    "        step +=1\n",
    "        if np.all(coord == 0):\n",
    "            return step\n",
    "    return step\n",
    "\n",
    "def MC_RW_(numbersims, stats):\n",
    "    for i in range(numbersims):\n",
    "        stats.record_result(sim())\n",
    "    return"
   ]
  },
  {
   "cell_type": "code",
   "execution_count": 157,
   "id": "78ed1128-329d-4d34-999e-70c12b1d64cb",
   "metadata": {},
   "outputs": [],
   "source": [
    "stats = Stats()"
   ]
  },
  {
   "cell_type": "code",
   "execution_count": 170,
   "id": "3d4aa80f-acc1-45f0-9ddc-1bf4f6ae3734",
   "metadata": {},
   "outputs": [],
   "source": [
    "MC_RW_(100000, stats)"
   ]
  },
  {
   "cell_type": "code",
   "execution_count": 168,
   "id": "424e1b82-86f2-4926-ac6c-8c247ba70eb3",
   "metadata": {},
   "outputs": [
    {
     "data": {
      "text/html": [
       "<div>\n",
       "<style scoped>\n",
       "    .dataframe tbody tr th:only-of-type {\n",
       "        vertical-align: middle;\n",
       "    }\n",
       "\n",
       "    .dataframe tbody tr th {\n",
       "        vertical-align: top;\n",
       "    }\n",
       "\n",
       "    .dataframe thead th {\n",
       "        text-align: right;\n",
       "    }\n",
       "</style>\n",
       "<table border=\"1\" class=\"dataframe\">\n",
       "  <thead>\n",
       "    <tr style=\"text-align: right;\">\n",
       "      <th></th>\n",
       "      <th>Walk length</th>\n",
       "      <th>Frequency</th>\n",
       "    </tr>\n",
       "  </thead>\n",
       "  <tbody>\n",
       "    <tr>\n",
       "      <th>2</th>\n",
       "      <td>2</td>\n",
       "      <td>70400</td>\n",
       "    </tr>\n",
       "    <tr>\n",
       "      <th>1</th>\n",
       "      <td>4</td>\n",
       "      <td>15634</td>\n",
       "    </tr>\n",
       "    <tr>\n",
       "      <th>7</th>\n",
       "      <td>6</td>\n",
       "      <td>8659</td>\n",
       "    </tr>\n",
       "    <tr>\n",
       "      <th>8</th>\n",
       "      <td>8</td>\n",
       "      <td>5737</td>\n",
       "    </tr>\n",
       "    <tr>\n",
       "      <th>0</th>\n",
       "      <td>10</td>\n",
       "      <td>4235</td>\n",
       "    </tr>\n",
       "    <tr>\n",
       "      <th>6</th>\n",
       "      <td>12</td>\n",
       "      <td>3296</td>\n",
       "    </tr>\n",
       "    <tr>\n",
       "      <th>9</th>\n",
       "      <td>14</td>\n",
       "      <td>2655</td>\n",
       "    </tr>\n",
       "    <tr>\n",
       "      <th>10</th>\n",
       "      <td>16</td>\n",
       "      <td>2256</td>\n",
       "    </tr>\n",
       "    <tr>\n",
       "      <th>3</th>\n",
       "      <td>18</td>\n",
       "      <td>1880</td>\n",
       "    </tr>\n",
       "    <tr>\n",
       "      <th>5</th>\n",
       "      <td>20</td>\n",
       "      <td>1687</td>\n",
       "    </tr>\n",
       "    <tr>\n",
       "      <th>4</th>\n",
       "      <td>21</td>\n",
       "      <td>94561</td>\n",
       "    </tr>\n",
       "  </tbody>\n",
       "</table>\n",
       "</div>"
      ],
      "text/plain": [
       "    Walk length  Frequency\n",
       "2             2      70400\n",
       "1             4      15634\n",
       "7             6       8659\n",
       "8             8       5737\n",
       "0            10       4235\n",
       "6            12       3296\n",
       "9            14       2655\n",
       "10           16       2256\n",
       "3            18       1880\n",
       "5            20       1687\n",
       "4            21      94561"
      ]
     },
     "execution_count": 168,
     "metadata": {},
     "output_type": "execute_result"
    }
   ],
   "source": [
    "df = stats.dataframe()\n",
    "df.sort_values(by=['Walk length'])"
   ]
  },
  {
   "cell_type": "code",
   "execution_count": 166,
   "id": "8df3972a-5ae3-431c-9a17-2ec80dea1b9e",
   "metadata": {},
   "outputs": [
    {
     "data": {
      "text/plain": [
       "0.450018018018018"
      ]
     },
     "execution_count": 166,
     "metadata": {},
     "output_type": "execute_result"
    }
   ],
   "source": [
    "stats.prob_length(21) "
   ]
  },
  {
   "cell_type": "code",
   "execution_count": 169,
   "id": "cf550b93-6c83-4e88-b794-f7344517394b",
   "metadata": {},
   "outputs": [
    {
     "data": {
      "text/plain": [
       "0.4481563981042654"
      ]
     },
     "execution_count": 169,
     "metadata": {},
     "output_type": "execute_result"
    }
   ],
   "source": [
    "stats.prob_length(21)"
   ]
  },
  {
   "cell_type": "code",
   "execution_count": 171,
   "id": "3afda814-2ae2-4605-b521-a8b202485ff0",
   "metadata": {},
   "outputs": [
    {
     "data": {
      "text/plain": [
       "0.44842443729903536"
      ]
     },
     "execution_count": 171,
     "metadata": {},
     "output_type": "execute_result"
    }
   ],
   "source": [
    "stats.prob_length(21) "
   ]
  },
  {
   "cell_type": "code",
   "execution_count": 172,
   "id": "c69bb201-2bee-4ac1-aa06-0ebc2bf73d1c",
   "metadata": {},
   "outputs": [
    {
     "data": {
      "text/plain": [
       "311000"
      ]
     },
     "execution_count": 172,
     "metadata": {},
     "output_type": "execute_result"
    }
   ],
   "source": [
    "stats.number_sims()"
   ]
  },
  {
   "cell_type": "code",
   "execution_count": 173,
   "id": "d1adc860-af86-4139-9947-aab8b80ec47f",
   "metadata": {},
   "outputs": [],
   "source": [
    "MC_RW_(89000, stats)"
   ]
  },
  {
   "cell_type": "code",
   "execution_count": 179,
   "id": "9970cfc0-bbbe-43f5-9efe-a1f1c10886e7",
   "metadata": {},
   "outputs": [
    {
     "name": "stdout",
     "output_type": "stream",
     "text": [
      "400000 0.448520000000000\n"
     ]
    }
   ],
   "source": [
    "print(stats.number_sims(), '{0:.15f}'.format(stats.prob_length(21)))"
   ]
  },
  {
   "cell_type": "code",
   "execution_count": 180,
   "id": "134a06a3-b065-4e47-aa4b-fef5fde73677",
   "metadata": {},
   "outputs": [
    {
     "name": "stdout",
     "output_type": "stream",
     "text": [
      "500000 0.447918000000000\n",
      "600000 0.448078333333333\n",
      "700000 0.448172857142857\n",
      "800000 0.448335000000000\n",
      "900000 0.448721111111111\n",
      "1000000 0.448252000000000\n",
      "1100000 0.448250000000000\n",
      "1200000 0.448240000000000\n",
      "1300000 0.448325384615385\n",
      "1400000 0.448385714285714\n"
     ]
    }
   ],
   "source": [
    "for i in range(10):\n",
    "    MC_RW_(100000, stats)\n",
    "    print(stats.number_sims(), '{0:.15f}'.format(stats.prob_length(21)))"
   ]
  },
  {
   "cell_type": "code",
   "execution_count": 183,
   "id": "4b89e42e-451f-4b0e-ac0e-0bb4c7bdee5c",
   "metadata": {},
   "outputs": [],
   "source": [
    "stats2 = Stats()"
   ]
  },
  {
   "cell_type": "code",
   "execution_count": 184,
   "id": "7cffe944-0d37-49c1-bf18-705330ddce69",
   "metadata": {},
   "outputs": [
    {
     "name": "stdout",
     "output_type": "stream",
     "text": [
      "1793245 0.448343645179549\n",
      "1893245 0.448253131528144\n",
      "1993245 0.448187754139607\n",
      "2093245 0.448141999622596\n",
      "2193245 0.448177928138443\n",
      "2293245 0.448125254824495\n",
      "2393245 0.448059851791187\n",
      "2493245 0.448124432215847\n",
      "2593245 0.448106908525805\n",
      "2693245 0.448103310318965\n",
      "2793245 0.448086365499625\n",
      "2893245 0.448054001648668\n",
      "2993245 0.448004089207532\n",
      "3093245 0.447965162798291\n",
      "3193245 0.447998196192275\n",
      "3293245 0.448021632159162\n"
     ]
    }
   ],
   "source": [
    "for i in range(16):\n",
    "    MC_RW_(100000, stats2)\n",
    "    print(stats2.number_sims(), '{0:.15f}'.format(stats2.prob_length(21)))"
   ]
  },
  {
   "cell_type": "code",
   "execution_count": 2,
   "id": "5a43acfe-27ce-4660-8fe0-c380d12c56b0",
   "metadata": {},
   "outputs": [],
   "source": [
    "## OOP helper functions\n",
    "def is_even(q, r, s):\n",
    "    if ((abs(q) + abs(r) + abs(s))/2) % 2 == 0:\n",
    "        return True\n",
    "    return False\n",
    "\n",
    "def add(str_1, str_2):\n",
    "    return str(int(str_1[]\n",
    "\n",
    "def get_connections(str_, even):\n",
    "    for "
   ]
  },
  {
   "cell_type": "code",
   "execution_count": 6,
   "id": "8e5c0fe1-3779-4d60-92b0-11a81c68aa46",
   "metadata": {},
   "outputs": [
    {
     "data": {
      "text/plain": [
       "True"
      ]
     },
     "execution_count": 6,
     "metadata": {},
     "output_type": "execute_result"
    }
   ],
   "source": [
    "is_even(1,-1,2)"
   ]
  },
  {
   "cell_type": "code",
   "execution_count": null,
   "id": "e5267f7f-fa66-4dbf-b564-2cfcae9d02cf",
   "metadata": {},
   "outputs": [],
   "source": [
    "## Attempt using OOP\n",
    "\n",
    "class Node:\n",
    "    def __init__(str_):\n",
    "        self.coord = str_\n",
    "        self.even = is_even(q,r,s)\n",
    "        self.connections = get_connections(str_, even)"
   ]
  },
  {
   "cell_type": "code",
   "execution_count": 39,
   "id": "c748eebe-6a9d-4e09-ba99-ee48f36d5c33",
   "metadata": {},
   "outputs": [],
   "source": [
    "## make problem smaller by making two moves one and all nodes are even\n",
    "from operator import add\n",
    "\n",
    "poss_moves = [[-1, -1, 2], [1, -2, 1], [0, 0, 0], [0, 0, 0], [0, 0, 0], [2, -1, -1], [1, 1, -2], [-2, 1, 1], [-1, 2, -1]]\n",
    "\n",
    "def move_coord(list1, list2):\n",
    "    return list(map(add, list1, list2))\n",
    "\n",
    "def next_coords(coord):\n",
    "    next_ = []\n",
    "    for move in poss_moves:\n",
    "        next_.append(move_coord(coord, move))\n",
    "    return next_\n",
    "\n",
    "def next_coords_vec(vec_coords):\n",
    "    next_ = []\n",
    "    for coord in vec_coords:\n",
    "        next_ += next_coords(coord)\n",
    "    return next_\n",
    "\n",
    "def remove_homes(lst):\n",
    "    new = []\n",
    "    for item in lst:\n",
    "        if item != [0,0,0]:\n",
    "            new.append(item)\n",
    "    return new\n",
    "\n",
    "def reduce_homes(lst):\n",
    "    new = [[0,0,0]]\n",
    "    for item in lst:\n",
    "        if item != [0,0,0]:\n",
    "            new.append(item)\n",
    "    return new\n",
    "\n",
    "def reduce_one_home(lst):\n",
    "    for i in range(0, len(lst)):\n",
    "        if lst[i] == [0,0,0]:\n",
    "            break\n",
    "    return lst[:i] + lst[i+1:]\n",
    "\n",
    "def count_homes(lst):\n",
    "    count = 0\n",
    "    for item in lst:\n",
    "        if item == [0,0,0]:\n",
    "            count += 1\n",
    "    return count\n",
    "\n",
    "##################\n",
    "\n",
    "def print_paths(n, dict_):\n",
    "    #N = int(n/2)\n",
    "    #print('steps:', 'paths home:', 'len coords:', 'rm before:', 'rm after:')\n",
    "    coords = poss_moves\n",
    "    print(2, count_homes(coords))\n",
    "    for i in range(4, n+2, 2):\n",
    "        #print('================')\n",
    "        #print('STEPS =', i)\n",
    "        coords = remove_homes(coords)\n",
    "        coords = next_coords_vec(coords)\n",
    "        #print('num paths', len(coords))\n",
    "        if (i == 20):\n",
    "            print(i, count_homes(coords), len(coords))\n",
    "            return\n",
    "        before = len(coords)\n",
    "        coords = remove_steps_away(coords, 20-i, dict_)\n",
    "        after = len(coords)\n",
    "        print(i, count_homes(coords), len(coords), before, after)\n",
    "    return\n",
    "\n",
    "def diff(dict_, next_coords):\n",
    "    dict_lst = []\n",
    "    shell = []\n",
    "    for value in dict_.values():\n",
    "        for coord in value:\n",
    "            if coord in value:\n",
    "                dict_lst.append(coord)\n",
    "    #print('dict_lst: ', dict_lst)\n",
    "    for coord_ in next_coords:\n",
    "        if coord_ not in dict_lst:\n",
    "            shell.append(coord_)\n",
    "    return shell\n",
    "\n",
    "def remove_dups(lst):\n",
    "    no_dups = []\n",
    "    for coord in lst:\n",
    "        if coord not in no_dups:\n",
    "            no_dups.append(coord)\n",
    "    return no_dups\n",
    "\n",
    "steps_away_dict = {0:[[0,0,0]]}\n",
    "def generate_steps_away(dict_, n):\n",
    "    coords = remove_homes(poss_moves)\n",
    "    dict_[2] = coords\n",
    "    for i in range(4, n+2, 2):\n",
    "        next_coords = next_coords_vec(coords)\n",
    "        diff_ = remove_dups(diff(dict_, next_coords))\n",
    "        dict_[i] = diff_\n",
    "        coords = next_coords\n",
    "        #print(i)\n",
    "    return\n",
    "\n",
    "generate_steps_away(steps_away_dict, 14)\n",
    "\n",
    "def coord_to_str(coord):\n",
    "    str_ = str(coord[0]) + '_' + str(coord[1]) + '_' + str(coord[2])\n",
    "    return str_\n",
    "\n",
    "#doesnt work!!\n",
    "# def str_to_coord(str_):\n",
    "#     return [int(str_[0]), int(str_[2]), int(str_[4])]\n",
    "\n",
    "reverse_steps_away = dict()\n",
    "for k, v in steps_away_dict.items():\n",
    "    for coord in v:\n",
    "        reverse_steps_away[coord_to_str(coord)] = k\n",
    "        \n",
    "def steps_away(dict_, coord):\n",
    "    str_ = coord_to_str(coord)\n",
    "    if str_ in dict_:\n",
    "        return dict_[str_]\n",
    "    else: return None\n",
    "    \n",
    "def remove_steps_away(lst, steps_left, dict_):\n",
    "    coords = []\n",
    "    for coord in lst:\n",
    "        if (steps_away(dict_, coord) <= steps_left):\n",
    "            coords.append(coord)\n",
    "    return coords"
   ]
  },
  {
   "cell_type": "code",
   "execution_count": null,
   "id": "a9632340-ef89-404a-a733-f2bd1719abbf",
   "metadata": {},
   "outputs": [
    {
     "name": "stdout",
     "output_type": "stream",
     "text": [
      "2 3\n",
      "4 6 54 54 54\n",
      "6 30 432 432 432\n",
      "8 180 3618 3618 3618\n",
      "10 1188 30942 30942 30942\n",
      "12 8322 262566 267786 262566\n",
      "14 60714 1951974 2288196 1951974\n",
      "16 456174 10429932 17021340 10429932\n",
      "18 3504630 30902736 89763822 30902736\n"
     ]
    }
   ],
   "source": [
    "print_paths(20, reverse_steps_away)"
   ]
  },
  {
   "cell_type": "code",
   "execution_count": 66,
   "id": "177599c6-6851-48d4-a773-70e537597ac3",
   "metadata": {},
   "outputs": [
    {
     "data": {
      "text/plain": [
       "0.4480326258635227"
      ]
     },
     "execution_count": 66,
     "metadata": {},
     "output_type": "execute_result"
    }
   ],
   "source": [
    "Ans = 1 - 3/(3**2) - 6/(3**4) - 30/(3**6) - 180/(3**8) - 1188/(3**10) - 8322/(3**12) - 60714/(3**14) - 456174/(3**16) - 3504603/(3**18) - 27398106/(3**20)\n",
    "#1 - Ans\n",
    "Ans"
   ]
  },
  {
   "cell_type": "code",
   "execution_count": 38,
   "id": "6fd82a70-b80f-4bcd-b2a1-394471883459",
   "metadata": {},
   "outputs": [
    {
     "data": {
      "text/plain": [
       "[[0, 0, 0], [0, 0, 0], [0, 0, 0]]"
      ]
     },
     "execution_count": 38,
     "metadata": {},
     "output_type": "execute_result"
    }
   ],
   "source": [
    "remove_steps_away(poss_moves, 2, reverse_steps_away)"
   ]
  },
  {
   "cell_type": "code",
   "execution_count": 50,
   "id": "4663723a-a195-4921-9d9e-7a21b126ffd5",
   "metadata": {},
   "outputs": [],
   "source": [
    "##dictionary approach\n",
    "\n",
    "poss_moves = [[-1, -1, 2], [1, -2, 1], [0, 0, 0], [0, 0, 0], [0, 0, 0], [2, -1, -1], [1, 1, -2], [-2, 1, 1], [-1, 2, -1]]\n",
    "\n",
    "from operator import add\n",
    "\n",
    "def move_coord(list1, list2):\n",
    "    return list(map(add, list1, list2))\n",
    "\n",
    "def next_coords_ls(coord):\n",
    "    next_ = []\n",
    "    for move in poss_moves:\n",
    "        next_.append(move_coord(coord, move))\n",
    "    return next_\n",
    "\n",
    "def remove_homes(lst):\n",
    "    new = []\n",
    "    for item in lst:\n",
    "        if item != [0,0,0]:\n",
    "            new.append(item)\n",
    "    return new\n",
    "\n",
    "def coord_to_str(coord):\n",
    "    str_ = str(coord[0]) + '_' + str(coord[1]) + '_' + str(coord[2])\n",
    "    return str_\n",
    "\n",
    "def str_to_coord(str_):\n",
    "    coord = str_.split('_')\n",
    "    coord = [int(s) for s in coord]\n",
    "    return coord\n",
    "\n",
    "#prepare dicts\n",
    "dict_2 = dict( (coord_to_str(coord), 1) for coord in remove_homes(poss_moves))\n",
    "dict_2['0_0_0'] = 3\n",
    "master_dict = dict( (i, dict()) for i in range(2, 22, 2))\n",
    "master_dict[2] = dict_2\n",
    "#print(dict_2)\n",
    "#print(master_dict)\n",
    "\n",
    "\n",
    "def fill_dict(master_dict_, N):\n",
    "    '''fill dictionary step by step'''\n",
    "    for i in range(4, N+2, 2):\n",
    "        update_master(master_dict_ , i)\n",
    "    return\n",
    "\n",
    "def update_master(dict_, step):\n",
    "    '''update master for one step'''\n",
    "    for coord_str, count in dict_[step-2].items():\n",
    "        update_by_coord(dict_[step], coord_str, count)\n",
    "    return\n",
    "\n",
    "def update_by_coord(dict_, coord_str, count):\n",
    "    if coord_str == '0_0_0':\n",
    "        return\n",
    "    next_coords_ = next_coords_str(coord_str)\n",
    "    for next_coord_str in next_coords_:\n",
    "        if next_coord_str in dict_:\n",
    "            dict_[next_coord_str] += count\n",
    "        else: dict_[next_coord_str] = count\n",
    "    return\n",
    "    \n",
    "def next_coords_str(coord_str):\n",
    "    '''return list of next coord strs for a given coord_str'''\n",
    "    coord = str_to_coord(coord_str)\n",
    "    return [coord_to_str(next_) for next_ in next_coords_ls(coord)]"
   ]
  },
  {
   "cell_type": "code",
   "execution_count": 51,
   "id": "56179ea8-3207-40a1-be19-089ebe458a15",
   "metadata": {},
   "outputs": [],
   "source": [
    "fill_dict(master_dict, 20)"
   ]
  },
  {
   "cell_type": "code",
   "execution_count": 59,
   "id": "5824abab-d9ea-4634-8526-29725705d227",
   "metadata": {},
   "outputs": [
    {
     "data": {
      "text/plain": [
       "27398106"
      ]
     },
     "execution_count": 59,
     "metadata": {},
     "output_type": "execute_result"
    }
   ],
   "source": [
    "master_dict[20]['0_0_0']"
   ]
  },
  {
   "cell_type": "code",
   "execution_count": 67,
   "id": "fa1a3e88-4ea7-4436-a640-c4baaa5553e0",
   "metadata": {},
   "outputs": [
    {
     "data": {
      "text/plain": [
       "0.4480325561718033"
      ]
     },
     "execution_count": 67,
     "metadata": {},
     "output_type": "execute_result"
    }
   ],
   "source": [
    "def find_prob(dict_, N=20):\n",
    "    sum_ = 1\n",
    "    for i in range(2, N+2, 2):\n",
    "        sum_ -= (dict_[i]['0_0_0'] / (3**i))\n",
    "    return sum_\n",
    "\n",
    "find_prob(master_dict)"
   ]
  },
  {
   "cell_type": "code",
   "execution_count": 61,
   "id": "e0b87ae1-0928-4584-b5a7-d9f62101ce03",
   "metadata": {},
   "outputs": [
    {
     "name": "stdout",
     "output_type": "stream",
     "text": [
      "3\n",
      "6\n",
      "30\n",
      "180\n",
      "1188\n",
      "8322\n",
      "60714\n",
      "456174\n",
      "3504630\n",
      "27398106\n"
     ]
    }
   ],
   "source": [
    "for i in range(2, 22, 2):\n",
    "    print(master_dict[i]['0_0_0'])"
   ]
  },
  {
   "cell_type": "code",
   "execution_count": null,
   "id": "4ae0f0ff-6846-453f-a839-797ae2550ba6",
   "metadata": {},
   "outputs": [],
   "source": []
  }
 ],
 "metadata": {
  "kernelspec": {
   "display_name": "Python 3",
   "language": "python",
   "name": "python3"
  },
  "language_info": {
   "codemirror_mode": {
    "name": "ipython",
    "version": 3
   },
   "file_extension": ".py",
   "mimetype": "text/x-python",
   "name": "python",
   "nbconvert_exporter": "python",
   "pygments_lexer": "ipython3",
   "version": "3.8.8"
  }
 },
 "nbformat": 4,
 "nbformat_minor": 5
}
